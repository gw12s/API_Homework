{
 "cells": [
  {
   "cell_type": "markdown",
   "metadata": {},
   "source": [
    "# Unit 5 - Financial Planning\n"
   ]
  },
  {
   "cell_type": "code",
   "execution_count": 42,
   "metadata": {},
   "outputs": [],
   "source": [
    "# Initial imports\n",
    "# add json import\n",
    "import json\n",
    "import os\n",
    "import requests\n",
    "import pandas as pd\n",
    "from dotenv import load_dotenv\n",
    "import alpaca_trade_api as tradeapi\n",
    "from MCForecastTools import MCSimulation\n",
    "\n",
    "%matplotlib inline"
   ]
  },
  {
   "cell_type": "code",
   "execution_count": 43,
   "metadata": {},
   "outputs": [
    {
     "data": {
      "text/plain": [
       "True"
      ]
     },
     "execution_count": 43,
     "metadata": {},
     "output_type": "execute_result"
    }
   ],
   "source": [
    "# Load .env enviroment variables\n",
    "# Expect \"True\" output if this is done correctly\n",
    "load_dotenv()"
   ]
  },
  {
   "cell_type": "markdown",
   "metadata": {},
   "source": [
    "## Part 1 - Personal Finance Planner"
   ]
  },
  {
   "cell_type": "code",
   "execution_count": 44,
   "metadata": {},
   "outputs": [],
   "source": [
    "# Set monthly household income\n",
    "monthly_household_income = 12000"
   ]
  },
  {
   "cell_type": "markdown",
   "metadata": {},
   "source": [
    "### Collect Crypto Prices Using the `requests` Library"
   ]
  },
  {
   "cell_type": "code",
   "execution_count": 45,
   "metadata": {},
   "outputs": [],
   "source": [
    "# Current amount of crypto assets\n",
    "my_btc = 1.2\n",
    "my_eth = 5.3"
   ]
  },
  {
   "cell_type": "code",
   "execution_count": 46,
   "metadata": {},
   "outputs": [
    {
     "name": "stdout",
     "output_type": "stream",
     "text": [
      "{\n",
      "    \"data\": {\n",
      "        \"1\": {\n",
      "            \"id\": 1,\n",
      "            \"name\": \"Bitcoin\",\n",
      "            \"symbol\": \"BTC\",\n",
      "            \"website_slug\": \"bitcoin\",\n",
      "            \"rank\": 1,\n",
      "            \"circulating_supply\": 18473300,\n",
      "            \"total_supply\": 18473300,\n",
      "            \"max_supply\": 21000000,\n",
      "            \"quotes\": {\n",
      "                \"USD\": {\n",
      "                    \"price\": 11511.03,\n",
      "                    \"volume_24h\": 20137688437,\n",
      "                    \"market_cap\": 212646762164,\n",
      "                    \"percentage_change_1h\": -0.0785221930784158,\n",
      "                    \"percentage_change_24h\": 2.57533595513744,\n",
      "                    \"percentage_change_7d\": -2.95741539071737,\n",
      "                    \"percent_change_1h\": -0.0785221930784158,\n",
      "                    \"percent_change_24h\": 2.57533595513744,\n",
      "                    \"percent_change_7d\": -2.95741539071737\n",
      "                }\n",
      "            },\n",
      "            \"last_updated\": 1598634492\n",
      "        }\n",
      "    },\n",
      "    \"metadata\": {\n",
      "        \"timestamp\": 1598634492,\n",
      "        \"num_cryptocurrencies\": 1493,\n",
      "        \"error\": null\n",
      "    }\n",
      "}\n",
      "{\n",
      "    \"data\": {\n",
      "        \"1027\": {\n",
      "            \"id\": 1027,\n",
      "            \"name\": \"Ethereum\",\n",
      "            \"symbol\": \"ETH\",\n",
      "            \"website_slug\": \"ethereum\",\n",
      "            \"rank\": 2,\n",
      "            \"circulating_supply\": 112369240,\n",
      "            \"total_supply\": 112369240,\n",
      "            \"max_supply\": 0,\n",
      "            \"quotes\": {\n",
      "                \"USD\": {\n",
      "                    \"price\": 395.15,\n",
      "                    \"volume_24h\": 7736451136,\n",
      "                    \"market_cap\": 44497968790,\n",
      "                    \"percentage_change_1h\": -0.142873969208449,\n",
      "                    \"percentage_change_24h\": 5.19608471943208,\n",
      "                    \"percentage_change_7d\": -5.12009126186275,\n",
      "                    \"percent_change_1h\": -0.142873969208449,\n",
      "                    \"percent_change_24h\": 5.19608471943208,\n",
      "                    \"percent_change_7d\": -5.12009126186275\n",
      "                }\n",
      "            },\n",
      "            \"last_updated\": 1598634547\n",
      "        }\n",
      "    },\n",
      "    \"metadata\": {\n",
      "        \"timestamp\": 1598634547,\n",
      "        \"num_cryptocurrencies\": 1493,\n",
      "        \"error\": null\n",
      "    }\n",
      "}\n"
     ]
    }
   ],
   "source": [
    "# Crypto API URLs\n",
    "btc_url = \"https://api.alternative.me/v2/ticker/Bitcoin/?convert=USD\"\n",
    "eth_url = \"https://api.alternative.me/v2/ticker/Ethereum/?convert=USD\"\n",
    "btc_url = btc_url + \"?format=json\"\n",
    "eth_url = eth_url + \"?format=json\"\n",
    "#execute get request on btc & eth & store response as variable\n",
    "#requests.get(btc_url)\n",
    "#requests.get(eth_url)\n",
    "btc_response_data = requests.get(btc_url)\n",
    "eth_response_data = requests.get(eth_url)\n",
    "#use json function from json library to format\n",
    "#import json, added to initial imports list\n",
    "btc_data = btc_response_data.json()\n",
    "eth_data = eth_response_data.json()\n",
    "#add indents (4) to JSON and output to screen for both btc & eth\n",
    "print(json.dumps(btc_data, indent=4))\n",
    "print(json.dumps(eth_data, indent=4))"
   ]
  },
  {
   "cell_type": "code",
   "execution_count": 47,
   "metadata": {},
   "outputs": [
    {
     "name": "stdout",
     "output_type": "stream",
     "text": [
      "The current value of your 1.2 BTC is $13813.24\n",
      "The current value of your 5.3 ETH is $2094.29\n"
     ]
    }
   ],
   "source": [
    "# Fetch current BTC price\n",
    "# select current btc price from formatted json data & set as float\n",
    "# use variable btc_price_current, keep \"btc\" at the beginning of all variables for quicker identification later\n",
    "btc_price_current = float(btc_data['data']['1']['quotes']['USD']['price'])\n",
    "# Fetch current ETH price\n",
    "# select current eth price from formatted json data & set as float\n",
    "#use variable eth_price_current, keep \"eth\" at the beginning of all variables for quicker identification\n",
    "eth_price_current = float(eth_data['data']['1027']['quotes']['USD']['price'])\n",
    "# Compute current value of my crpto\n",
    "# values will equal my_btc*btc_price_current & my_eth*eth_price_current - set new variables\n",
    "my_btc_value = my_btc*btc_price_current\n",
    "my_eth_value = my_eth*eth_price_current\n",
    "\n",
    "# Print current crypto wallet balance format to 0.2\n",
    "print(f\"The current value of your {my_btc} BTC is ${my_btc_value:0.2f}\")\n",
    "print(f\"The current value of your {my_eth} ETH is ${my_eth_value:0.2f}\")"
   ]
  },
  {
   "cell_type": "markdown",
   "metadata": {},
   "source": [
    "### Collect Investments Data Using Alpaca: `SPY` (stocks) and `AGG` (bonds)"
   ]
  },
  {
   "cell_type": "code",
   "execution_count": 48,
   "metadata": {},
   "outputs": [],
   "source": [
    "# Current amount of shares\n",
    "my_agg = 200\n",
    "my_spy = 50"
   ]
  },
  {
   "cell_type": "code",
   "execution_count": 49,
   "metadata": {},
   "outputs": [
    {
     "name": "stdout",
     "output_type": "stream",
     "text": [
      "Alpaca Key type: <class 'str'>\n",
      "Alpaca Secret Key type <class 'str'>\n"
     ]
    }
   ],
   "source": [
    "# Set Alpaca API key and secret\n",
    "# add api_key var using .getenv\n",
    "# print var type for each key: expect \"str\" output if key was imported correctly\n",
    "alpaca_api_key = os.getenv(\"ALPACA_API_KEY\")\n",
    "alpaca_secret_key = os.getenv(\"ALPACA_SECRET_KEY\")\n",
    "print(f\"Alpaca Key type: {type(alpaca_api_key)}\")\n",
    "print(f\"Alpaca Secret Key type {type(alpaca_secret_key)}\")\n",
    "\n",
    "# Create the Alpaca API object\n",
    "alpaca = tradeapi.REST(\n",
    "    alpaca_api_key,\n",
    "    alpaca_secret_key,\n",
    "    api_version=\"v2\")"
   ]
  },
  {
   "cell_type": "code",
   "execution_count": 50,
   "metadata": {},
   "outputs": [
    {
     "name": "stdout",
     "output_type": "stream",
     "text": [
      "Current AGG closing price: $118.07\n",
      "Current SPY closing price: $349.4\n"
     ]
    }
   ],
   "source": [
    "# Format current date as ISO format\n",
    "today = pd.Timestamp('today', tz=\"America/Chicago\").isoformat()\n",
    "\n",
    "# Set the tickers\n",
    "tickers = [\"AGG\", \"SPY\"]\n",
    "\n",
    "# Set timeframe to '1D' for Alpaca API\n",
    "timeframe = \"1D\"\n",
    "\n",
    "# Get current closing prices for SPY and AGG\n",
    "# YOUR CODE HERE!\n",
    "df_portfolio = alpaca.get_barset(\n",
    "    tickers,\n",
    "    timeframe,\n",
    "    start = today,\n",
    "    end = today\n",
    ").df\n",
    "#print(df_portfolio.head())\n",
    "# Pick AGG and SPY close prices\n",
    "agg_close_price = float(df_portfolio[\"AGG\"][\"close\"])\n",
    "spy_close_price = float(df_portfolio[\"SPY\"][\"close\"])\n",
    "# Print AGG and SPY close prices\n",
    "print(f\"Current AGG closing price: ${agg_close_price}\")\n",
    "print(f\"Current SPY closing price: ${spy_close_price}\")"
   ]
  },
  {
   "cell_type": "code",
   "execution_count": 51,
   "metadata": {},
   "outputs": [
    {
     "name": "stdout",
     "output_type": "stream",
     "text": [
      "The current value of your 50 SPY shares is $17470.00\n",
      "The current value of your 200 AGG shares is $23614.00\n"
     ]
    }
   ],
   "source": [
    "# Compute the current value of shares\n",
    "# my_value = shares*close_price\n",
    "my_agg_value = my_agg*agg_close_price\n",
    "my_spy_value = my_spy*spy_close_price\n",
    "\n",
    "# Print current value of share\n",
    "print(f\"The current value of your {my_spy} SPY shares is ${my_spy_value:0.2f}\")\n",
    "print(f\"The current value of your {my_agg} AGG shares is ${my_agg_value:0.2f}\")"
   ]
  },
  {
   "cell_type": "markdown",
   "metadata": {},
   "source": [
    "### Savings Health Analysis"
   ]
  },
  {
   "cell_type": "code",
   "execution_count": 52,
   "metadata": {},
   "outputs": [
    {
     "data": {
      "text/html": [
       "<div>\n",
       "<style scoped>\n",
       "    .dataframe tbody tr th:only-of-type {\n",
       "        vertical-align: middle;\n",
       "    }\n",
       "\n",
       "    .dataframe tbody tr th {\n",
       "        vertical-align: top;\n",
       "    }\n",
       "\n",
       "    .dataframe thead th {\n",
       "        text-align: right;\n",
       "    }\n",
       "</style>\n",
       "<table border=\"1\" class=\"dataframe\">\n",
       "  <thead>\n",
       "    <tr style=\"text-align: right;\">\n",
       "      <th></th>\n",
       "      <th>amount</th>\n",
       "    </tr>\n",
       "  </thead>\n",
       "  <tbody>\n",
       "    <tr>\n",
       "      <th>shares</th>\n",
       "      <td>41084.000</td>\n",
       "    </tr>\n",
       "    <tr>\n",
       "      <th>crypto</th>\n",
       "      <td>15907.531</td>\n",
       "    </tr>\n",
       "  </tbody>\n",
       "</table>\n",
       "</div>"
      ],
      "text/plain": [
       "           amount\n",
       "shares  41084.000\n",
       "crypto  15907.531"
      ]
     },
     "metadata": {},
     "output_type": "display_data"
    }
   ],
   "source": [
    "#set two new variables for total amount of shares and total amount of crypto - my_shares_value & my_crypto_value\n",
    "my_shares_value = my_agg_value+my_spy_value\n",
    "my_crypto_value = my_btc_value+my_eth_value\n",
    "# Create savings DataFrame\n",
    "# Create dictionary \"savings_value\" Keys: amount, shares, crypto\n",
    "savings_value = {   \n",
    "    \"amount\":[my_shares_value,my_crypto_value],\n",
    "    \"shares\": [my_shares_value],\n",
    "    \"crypto\": [my_crypto_value]\n",
    "}\n",
    "\n",
    "# use savings_value dict and assign keys to index or columns\n",
    "# index = \"shares\" & \"crypto\"\n",
    "# columns = \"amount\"\n",
    "df_savings = pd.DataFrame(savings_value, index=[\"shares\", \"crypto\"], columns=[\"amount\"])\n",
    "\n",
    "# Display savings DataFrame\n",
    "display(df_savings)"
   ]
  },
  {
   "cell_type": "code",
   "execution_count": 53,
   "metadata": {},
   "outputs": [
    {
     "data": {
      "text/plain": [
       "<matplotlib.axes._subplots.AxesSubplot at 0x254bd237130>"
      ]
     },
     "execution_count": 53,
     "metadata": {},
     "output_type": "execute_result"
    },
    {
     "data": {
      "image/png": "[encoded data removed]",
      "text/plain": [
       "<Figure size 432x288 with 1 Axes>"
      ]
     },
     "metadata": {},
     "output_type": "display_data"
    }
   ],
   "source": [
    "# Plot savings pie chart\n",
    "df_savings.plot.pie(y=\"amount\", title=\"Composition of Personal Savings\")"
   ]
  },
  {
   "cell_type": "code",
   "execution_count": 54,
   "metadata": {},
   "outputs": [
    {
     "name": "stdout",
     "output_type": "stream",
     "text": [
      "Congratulations! You have enough money in your savings fund!\n"
     ]
    }
   ],
   "source": [
    "# Set ideal emergency fund\n",
    "monthly_income = monthly_household_income\n",
    "emergency_fund = monthly_income * 3\n",
    "\n",
    "# Calculate total amount of savings\n",
    "total_savings = my_shares_value+my_crypto_value\n",
    "\n",
    "# Validate saving health\n",
    "# adjusted monthly_household_income & reran to check all options will print\n",
    "if total_savings > emergency_fund:\n",
    "    print(\"Congratulations! You have enough money in your savings fund!\")\n",
    "elif total_savings == emergency_fund:\n",
    "    print(\"Congratulations!  You have reached your financial goal!\")\n",
    "elif total_savings < emergency_fund:\n",
    "    print(f\"You are ${(emergency_fund-total_savings)} away from reaching your savings goal of ${emergency_fund}!\")"
   ]
  },
  {
   "cell_type": "markdown",
   "metadata": {},
   "source": [
    "## Part 2 - Retirement Planning\n",
    "\n",
    "### Monte Carlo Simulation"
   ]
  },
  {
   "cell_type": "code",
   "execution_count": 55,
   "metadata": {},
   "outputs": [],
   "source": [
    "# Set start and end dates of five years back from today.\n",
    "# Sample results may vary from the solution based on the time frame chosen\n",
    "# create \"start_date_year\" variable to identify year you want to go back to\n",
    "\n",
    "start_date_year = 2015\n",
    "start_date = pd.Timestamp('today', tz='America/Chicago').replace(year=(start_date_year)).isoformat()\n",
    "end_date = today"
   ]
  },
  {
   "cell_type": "code",
   "execution_count": 56,
   "metadata": {},
   "outputs": [
    {
     "data": {
      "text/html": [
       "<div>\n",
       "<style scoped>\n",
       "    .dataframe tbody tr th:only-of-type {\n",
       "        vertical-align: middle;\n",
       "    }\n",
       "\n",
       "    .dataframe tbody tr th {\n",
       "        vertical-align: top;\n",
       "    }\n",
       "\n",
       "    .dataframe thead tr th {\n",
       "        text-align: left;\n",
       "    }\n",
       "</style>\n",
       "<table border=\"1\" class=\"dataframe\">\n",
       "  <thead>\n",
       "    <tr>\n",
       "      <th></th>\n",
       "      <th colspan=\"5\" halign=\"left\">AGG</th>\n",
       "      <th colspan=\"5\" halign=\"left\">SPY</th>\n",
       "    </tr>\n",
       "    <tr>\n",
       "      <th></th>\n",
       "      <th>open</th>\n",
       "      <th>high</th>\n",
       "      <th>low</th>\n",
       "      <th>close</th>\n",
       "      <th>volume</th>\n",
       "      <th>open</th>\n",
       "      <th>high</th>\n",
       "      <th>low</th>\n",
       "      <th>close</th>\n",
       "      <th>volume</th>\n",
       "    </tr>\n",
       "  </thead>\n",
       "  <tbody>\n",
       "    <tr>\n",
       "      <th>2015-08-28 00:00:00-04:00</th>\n",
       "      <td>109.34</td>\n",
       "      <td>109.37</td>\n",
       "      <td>108.9300</td>\n",
       "      <td>109.001</td>\n",
       "      <td>4604866</td>\n",
       "      <td>198.50</td>\n",
       "      <td>199.835</td>\n",
       "      <td>197.92</td>\n",
       "      <td>199.28</td>\n",
       "      <td>111959716</td>\n",
       "    </tr>\n",
       "    <tr>\n",
       "      <th>2015-08-31 00:00:00-04:00</th>\n",
       "      <td>109.28</td>\n",
       "      <td>109.37</td>\n",
       "      <td>108.9000</td>\n",
       "      <td>108.920</td>\n",
       "      <td>3866305</td>\n",
       "      <td>198.11</td>\n",
       "      <td>199.125</td>\n",
       "      <td>197.01</td>\n",
       "      <td>197.60</td>\n",
       "      <td>108023599</td>\n",
       "    </tr>\n",
       "    <tr>\n",
       "      <th>2015-09-01 00:00:00-04:00</th>\n",
       "      <td>108.83</td>\n",
       "      <td>109.11</td>\n",
       "      <td>108.7700</td>\n",
       "      <td>109.010</td>\n",
       "      <td>3083045</td>\n",
       "      <td>193.12</td>\n",
       "      <td>194.770</td>\n",
       "      <td>190.73</td>\n",
       "      <td>191.61</td>\n",
       "      <td>173963880</td>\n",
       "    </tr>\n",
       "    <tr>\n",
       "      <th>2015-09-02 00:00:00-04:00</th>\n",
       "      <td>108.92</td>\n",
       "      <td>109.05</td>\n",
       "      <td>108.8100</td>\n",
       "      <td>108.900</td>\n",
       "      <td>3273302</td>\n",
       "      <td>194.65</td>\n",
       "      <td>195.460</td>\n",
       "      <td>192.42</td>\n",
       "      <td>195.46</td>\n",
       "      <td>120044919</td>\n",
       "    </tr>\n",
       "    <tr>\n",
       "      <th>2015-09-03 00:00:00-04:00</th>\n",
       "      <td>109.06</td>\n",
       "      <td>109.12</td>\n",
       "      <td>108.8701</td>\n",
       "      <td>109.040</td>\n",
       "      <td>1676171</td>\n",
       "      <td>196.26</td>\n",
       "      <td>198.050</td>\n",
       "      <td>194.96</td>\n",
       "      <td>195.55</td>\n",
       "      <td>117191452</td>\n",
       "    </tr>\n",
       "  </tbody>\n",
       "</table>\n",
       "</div>"
      ],
      "text/plain": [
       "                              AGG                                         SPY  \\\n",
       "                             open    high       low    close   volume    open   \n",
       "2015-08-28 00:00:00-04:00  109.34  109.37  108.9300  109.001  4604866  198.50   \n",
       "2015-08-31 00:00:00-04:00  109.28  109.37  108.9000  108.920  3866305  198.11   \n",
       "2015-09-01 00:00:00-04:00  108.83  109.11  108.7700  109.010  3083045  193.12   \n",
       "2015-09-02 00:00:00-04:00  108.92  109.05  108.8100  108.900  3273302  194.65   \n",
       "2015-09-03 00:00:00-04:00  109.06  109.12  108.8701  109.040  1676171  196.26   \n",
       "\n",
       "                                                               \n",
       "                              high     low   close     volume  \n",
       "2015-08-28 00:00:00-04:00  199.835  197.92  199.28  111959716  \n",
       "2015-08-31 00:00:00-04:00  199.125  197.01  197.60  108023599  \n",
       "2015-09-01 00:00:00-04:00  194.770  190.73  191.61  173963880  \n",
       "2015-09-02 00:00:00-04:00  195.460  192.42  195.46  120044919  \n",
       "2015-09-03 00:00:00-04:00  198.050  194.96  195.55  117191452  "
      ]
     },
     "execution_count": 56,
     "metadata": {},
     "output_type": "execute_result"
    }
   ],
   "source": [
    "# Get 5 years' worth of historical data for SPY and AGG\n",
    "# Create ticker var for SPY & AGG\n",
    "ticker = ['SPY', 'AGG']\n",
    "#set timeframe to 1D\n",
    "timeframe = \"1D\"\n",
    "#create dataframe \"df_stock_data\"\n",
    "df_stock_data = alpaca.get_barset(\n",
    "    ticker,\n",
    "    timeframe,\n",
    "    start=start_date,\n",
    "    end=end_date\n",
    ").df\n",
    "#df_stock_data = pd.DataFrame(df_historical)\n",
    "# Display sample data\n",
    "df_stock_data.head()"
   ]
  },
  {
   "cell_type": "code",
   "execution_count": 64,
   "metadata": {},
   "outputs": [],
   "source": [
    "# Configuring a Monte Carlo simulation to forecast 30 years cumulative returns\n",
    "# Use MC_thirty year: need to call portfolio_data = df_stock_data\n",
    "# weights = 60/40\n",
    "# num_simulation = number of runs (500)\n",
    "# num_trading_days = (always 252 days)*(number of years to run simulation=30)\n",
    "# adding variables \"years\", \"initial_investment\", \"investment_increase\" - these will need to be updated for challenge questions\n",
    "# adding variable \"trading_days\" - this does not need to be updated\n",
    "year = 30\n",
    "initial_investment = 20000\n",
    "investment_increase = 1.5\n",
    "\n",
    "trading_days = 252*year\n",
    "\n",
    "#updated MC_thirtyyear to MC_simulation for reusable code\n",
    "\n",
    "MC_simulation = MCSimulation(\n",
    "    portfolio_data = df_stock_data,\n",
    "    weights = [.60,.40],\n",
    "    num_simulation = 500,\n",
    "    num_trading_days = trading_days\n",
    ")"
   ]
  },
  {
   "cell_type": "code",
   "execution_count": 65,
   "metadata": {},
   "outputs": [
    {
     "data": {
      "text/html": [
       "<div>\n",
       "<style scoped>\n",
       "    .dataframe tbody tr th:only-of-type {\n",
       "        vertical-align: middle;\n",
       "    }\n",
       "\n",
       "    .dataframe tbody tr th {\n",
       "        vertical-align: top;\n",
       "    }\n",
       "\n",
       "    .dataframe thead tr th {\n",
       "        text-align: left;\n",
       "    }\n",
       "</style>\n",
       "<table border=\"1\" class=\"dataframe\">\n",
       "  <thead>\n",
       "    <tr>\n",
       "      <th></th>\n",
       "      <th colspan=\"6\" halign=\"left\">AGG</th>\n",
       "      <th colspan=\"6\" halign=\"left\">SPY</th>\n",
       "    </tr>\n",
       "    <tr>\n",
       "      <th></th>\n",
       "      <th>open</th>\n",
       "      <th>high</th>\n",
       "      <th>low</th>\n",
       "      <th>close</th>\n",
       "      <th>volume</th>\n",
       "      <th>daily_return</th>\n",
       "      <th>open</th>\n",
       "      <th>high</th>\n",
       "      <th>low</th>\n",
       "      <th>close</th>\n",
       "      <th>volume</th>\n",
       "      <th>daily_return</th>\n",
       "    </tr>\n",
       "  </thead>\n",
       "  <tbody>\n",
       "    <tr>\n",
       "      <th>2015-08-28 00:00:00-04:00</th>\n",
       "      <td>109.34</td>\n",
       "      <td>109.37</td>\n",
       "      <td>108.9300</td>\n",
       "      <td>109.001</td>\n",
       "      <td>4604866</td>\n",
       "      <td>NaN</td>\n",
       "      <td>198.50</td>\n",
       "      <td>199.835</td>\n",
       "      <td>197.92</td>\n",
       "      <td>199.28</td>\n",
       "      <td>111959716</td>\n",
       "      <td>NaN</td>\n",
       "    </tr>\n",
       "    <tr>\n",
       "      <th>2015-08-31 00:00:00-04:00</th>\n",
       "      <td>109.28</td>\n",
       "      <td>109.37</td>\n",
       "      <td>108.9000</td>\n",
       "      <td>108.920</td>\n",
       "      <td>3866305</td>\n",
       "      <td>-0.000743</td>\n",
       "      <td>198.11</td>\n",
       "      <td>199.125</td>\n",
       "      <td>197.01</td>\n",
       "      <td>197.60</td>\n",
       "      <td>108023599</td>\n",
       "      <td>-0.008430</td>\n",
       "    </tr>\n",
       "    <tr>\n",
       "      <th>2015-09-01 00:00:00-04:00</th>\n",
       "      <td>108.83</td>\n",
       "      <td>109.11</td>\n",
       "      <td>108.7700</td>\n",
       "      <td>109.010</td>\n",
       "      <td>3083045</td>\n",
       "      <td>0.000826</td>\n",
       "      <td>193.12</td>\n",
       "      <td>194.770</td>\n",
       "      <td>190.73</td>\n",
       "      <td>191.61</td>\n",
       "      <td>173963880</td>\n",
       "      <td>-0.030314</td>\n",
       "    </tr>\n",
       "    <tr>\n",
       "      <th>2015-09-02 00:00:00-04:00</th>\n",
       "      <td>108.92</td>\n",
       "      <td>109.05</td>\n",
       "      <td>108.8100</td>\n",
       "      <td>108.900</td>\n",
       "      <td>3273302</td>\n",
       "      <td>-0.001009</td>\n",
       "      <td>194.65</td>\n",
       "      <td>195.460</td>\n",
       "      <td>192.42</td>\n",
       "      <td>195.46</td>\n",
       "      <td>120044919</td>\n",
       "      <td>0.020093</td>\n",
       "    </tr>\n",
       "    <tr>\n",
       "      <th>2015-09-03 00:00:00-04:00</th>\n",
       "      <td>109.06</td>\n",
       "      <td>109.12</td>\n",
       "      <td>108.8701</td>\n",
       "      <td>109.040</td>\n",
       "      <td>1676171</td>\n",
       "      <td>0.001286</td>\n",
       "      <td>196.26</td>\n",
       "      <td>198.050</td>\n",
       "      <td>194.96</td>\n",
       "      <td>195.55</td>\n",
       "      <td>117191452</td>\n",
       "      <td>0.000460</td>\n",
       "    </tr>\n",
       "  </tbody>\n",
       "</table>\n",
       "</div>"
      ],
      "text/plain": [
       "                              AGG                                      \\\n",
       "                             open    high       low    close   volume   \n",
       "2015-08-28 00:00:00-04:00  109.34  109.37  108.9300  109.001  4604866   \n",
       "2015-08-31 00:00:00-04:00  109.28  109.37  108.9000  108.920  3866305   \n",
       "2015-09-01 00:00:00-04:00  108.83  109.11  108.7700  109.010  3083045   \n",
       "2015-09-02 00:00:00-04:00  108.92  109.05  108.8100  108.900  3273302   \n",
       "2015-09-03 00:00:00-04:00  109.06  109.12  108.8701  109.040  1676171   \n",
       "\n",
       "                                           SPY                           \\\n",
       "                          daily_return    open     high     low   close   \n",
       "2015-08-28 00:00:00-04:00          NaN  198.50  199.835  197.92  199.28   \n",
       "2015-08-31 00:00:00-04:00    -0.000743  198.11  199.125  197.01  197.60   \n",
       "2015-09-01 00:00:00-04:00     0.000826  193.12  194.770  190.73  191.61   \n",
       "2015-09-02 00:00:00-04:00    -0.001009  194.65  195.460  192.42  195.46   \n",
       "2015-09-03 00:00:00-04:00     0.001286  196.26  198.050  194.96  195.55   \n",
       "\n",
       "                                                   \n",
       "                              volume daily_return  \n",
       "2015-08-28 00:00:00-04:00  111959716          NaN  \n",
       "2015-08-31 00:00:00-04:00  108023599    -0.008430  \n",
       "2015-09-01 00:00:00-04:00  173963880    -0.030314  \n",
       "2015-09-02 00:00:00-04:00  120044919     0.020093  \n",
       "2015-09-03 00:00:00-04:00  117191452     0.000460  "
      ]
     },
     "execution_count": 65,
     "metadata": {},
     "output_type": "execute_result"
    }
   ],
   "source": [
    "# Printing the simulation input data\n",
    "\n",
    "MC_simulation.portfolio_data.head()"
   ]
  },
  {
   "cell_type": "code",
   "execution_count": 66,
   "metadata": {},
   "outputs": [
    {
     "name": "stdout",
     "output_type": "stream",
     "text": [
      "Running Monte Carlo simulation number 0.\n",
      "Running Monte Carlo simulation number 10.\n",
      "Running Monte Carlo simulation number 20.\n",
      "Running Monte Carlo simulation number 30.\n",
      "Running Monte Carlo simulation number 40.\n",
      "Running Monte Carlo simulation number 50.\n",
      "Running Monte Carlo simulation number 60.\n",
      "Running Monte Carlo simulation number 70.\n",
      "Running Monte Carlo simulation number 80.\n",
      "Running Monte Carlo simulation number 90.\n",
      "Running Monte Carlo simulation number 100.\n",
      "Running Monte Carlo simulation number 110.\n",
      "Running Monte Carlo simulation number 120.\n",
      "Running Monte Carlo simulation number 130.\n",
      "Running Monte Carlo simulation number 140.\n",
      "Running Monte Carlo simulation number 150.\n",
      "Running Monte Carlo simulation number 160.\n",
      "Running Monte Carlo simulation number 170.\n",
      "Running Monte Carlo simulation number 180.\n",
      "Running Monte Carlo simulation number 190.\n",
      "Running Monte Carlo simulation number 200.\n",
      "Running Monte Carlo simulation number 210.\n",
      "Running Monte Carlo simulation number 220.\n",
      "Running Monte Carlo simulation number 230.\n",
      "Running Monte Carlo simulation number 240.\n",
      "Running Monte Carlo simulation number 250.\n",
      "Running Monte Carlo simulation number 260.\n",
      "Running Monte Carlo simulation number 270.\n",
      "Running Monte Carlo simulation number 280.\n",
      "Running Monte Carlo simulation number 290.\n",
      "Running Monte Carlo simulation number 300.\n",
      "Running Monte Carlo simulation number 310.\n",
      "Running Monte Carlo simulation number 320.\n",
      "Running Monte Carlo simulation number 330.\n",
      "Running Monte Carlo simulation number 340.\n",
      "Running Monte Carlo simulation number 350.\n",
      "Running Monte Carlo simulation number 360.\n",
      "Running Monte Carlo simulation number 370.\n",
      "Running Monte Carlo simulation number 380.\n",
      "Running Monte Carlo simulation number 390.\n",
      "Running Monte Carlo simulation number 400.\n",
      "Running Monte Carlo simulation number 410.\n",
      "Running Monte Carlo simulation number 420.\n",
      "Running Monte Carlo simulation number 430.\n",
      "Running Monte Carlo simulation number 440.\n",
      "Running Monte Carlo simulation number 450.\n",
      "Running Monte Carlo simulation number 460.\n",
      "Running Monte Carlo simulation number 470.\n",
      "Running Monte Carlo simulation number 480.\n",
      "Running Monte Carlo simulation number 490.\n"
     ]
    },
    {
     "data": {
      "text/html": [
       "<div>\n",
       "<style scoped>\n",
       "    .dataframe tbody tr th:only-of-type {\n",
       "        vertical-align: middle;\n",
       "    }\n",
       "\n",
       "    .dataframe tbody tr th {\n",
       "        vertical-align: top;\n",
       "    }\n",
       "\n",
       "    .dataframe thead th {\n",
       "        text-align: right;\n",
       "    }\n",
       "</style>\n",
       "<table border=\"1\" class=\"dataframe\">\n",
       "  <thead>\n",
       "    <tr style=\"text-align: right;\">\n",
       "      <th></th>\n",
       "      <th>0</th>\n",
       "      <th>1</th>\n",
       "      <th>2</th>\n",
       "      <th>3</th>\n",
       "      <th>4</th>\n",
       "      <th>5</th>\n",
       "      <th>6</th>\n",
       "      <th>7</th>\n",
       "      <th>8</th>\n",
       "      <th>9</th>\n",
       "      <th>...</th>\n",
       "      <th>490</th>\n",
       "      <th>491</th>\n",
       "      <th>492</th>\n",
       "      <th>493</th>\n",
       "      <th>494</th>\n",
       "      <th>495</th>\n",
       "      <th>496</th>\n",
       "      <th>497</th>\n",
       "      <th>498</th>\n",
       "      <th>499</th>\n",
       "    </tr>\n",
       "  </thead>\n",
       "  <tbody>\n",
       "    <tr>\n",
       "      <th>0</th>\n",
       "      <td>1.000000</td>\n",
       "      <td>1.000000</td>\n",
       "      <td>1.000000</td>\n",
       "      <td>1.000000</td>\n",
       "      <td>1.000000</td>\n",
       "      <td>1.000000</td>\n",
       "      <td>1.000000</td>\n",
       "      <td>1.000000</td>\n",
       "      <td>1.000000</td>\n",
       "      <td>1.000000</td>\n",
       "      <td>...</td>\n",
       "      <td>1.000000</td>\n",
       "      <td>1.000000</td>\n",
       "      <td>1.000000</td>\n",
       "      <td>1.000000</td>\n",
       "      <td>1.000000</td>\n",
       "      <td>1.000000</td>\n",
       "      <td>1.000000</td>\n",
       "      <td>1.000000</td>\n",
       "      <td>1.000000</td>\n",
       "      <td>1.000000</td>\n",
       "    </tr>\n",
       "    <tr>\n",
       "      <th>1</th>\n",
       "      <td>0.997112</td>\n",
       "      <td>0.998090</td>\n",
       "      <td>1.005664</td>\n",
       "      <td>1.003551</td>\n",
       "      <td>1.001872</td>\n",
       "      <td>1.001737</td>\n",
       "      <td>1.000009</td>\n",
       "      <td>0.991480</td>\n",
       "      <td>0.994593</td>\n",
       "      <td>0.993620</td>\n",
       "      <td>...</td>\n",
       "      <td>0.993281</td>\n",
       "      <td>0.994181</td>\n",
       "      <td>1.001788</td>\n",
       "      <td>0.997431</td>\n",
       "      <td>0.992065</td>\n",
       "      <td>1.004709</td>\n",
       "      <td>1.006919</td>\n",
       "      <td>0.994734</td>\n",
       "      <td>0.995259</td>\n",
       "      <td>0.993534</td>\n",
       "    </tr>\n",
       "    <tr>\n",
       "      <th>2</th>\n",
       "      <td>0.993219</td>\n",
       "      <td>0.991954</td>\n",
       "      <td>1.010172</td>\n",
       "      <td>1.007966</td>\n",
       "      <td>1.005817</td>\n",
       "      <td>1.000109</td>\n",
       "      <td>0.993405</td>\n",
       "      <td>0.988250</td>\n",
       "      <td>0.990996</td>\n",
       "      <td>0.988175</td>\n",
       "      <td>...</td>\n",
       "      <td>0.994688</td>\n",
       "      <td>0.996921</td>\n",
       "      <td>0.999318</td>\n",
       "      <td>1.005241</td>\n",
       "      <td>0.989200</td>\n",
       "      <td>0.999660</td>\n",
       "      <td>1.005897</td>\n",
       "      <td>1.000713</td>\n",
       "      <td>0.987507</td>\n",
       "      <td>0.993751</td>\n",
       "    </tr>\n",
       "    <tr>\n",
       "      <th>3</th>\n",
       "      <td>0.982202</td>\n",
       "      <td>0.993613</td>\n",
       "      <td>1.010436</td>\n",
       "      <td>1.011995</td>\n",
       "      <td>0.994060</td>\n",
       "      <td>1.007380</td>\n",
       "      <td>0.985211</td>\n",
       "      <td>0.982506</td>\n",
       "      <td>0.993125</td>\n",
       "      <td>0.989827</td>\n",
       "      <td>...</td>\n",
       "      <td>0.993631</td>\n",
       "      <td>0.994554</td>\n",
       "      <td>1.003744</td>\n",
       "      <td>0.999538</td>\n",
       "      <td>0.988882</td>\n",
       "      <td>1.002532</td>\n",
       "      <td>1.006399</td>\n",
       "      <td>1.001742</td>\n",
       "      <td>0.984339</td>\n",
       "      <td>0.998455</td>\n",
       "    </tr>\n",
       "    <tr>\n",
       "      <th>4</th>\n",
       "      <td>0.976941</td>\n",
       "      <td>0.993880</td>\n",
       "      <td>1.008757</td>\n",
       "      <td>1.011102</td>\n",
       "      <td>0.997120</td>\n",
       "      <td>1.012489</td>\n",
       "      <td>0.985459</td>\n",
       "      <td>0.994133</td>\n",
       "      <td>0.989089</td>\n",
       "      <td>0.985850</td>\n",
       "      <td>...</td>\n",
       "      <td>1.001014</td>\n",
       "      <td>1.000732</td>\n",
       "      <td>1.001361</td>\n",
       "      <td>1.002593</td>\n",
       "      <td>0.982984</td>\n",
       "      <td>1.007198</td>\n",
       "      <td>1.017038</td>\n",
       "      <td>0.996689</td>\n",
       "      <td>0.986842</td>\n",
       "      <td>1.002370</td>\n",
       "    </tr>\n",
       "    <tr>\n",
       "      <th>...</th>\n",
       "      <td>...</td>\n",
       "      <td>...</td>\n",
       "      <td>...</td>\n",
       "      <td>...</td>\n",
       "      <td>...</td>\n",
       "      <td>...</td>\n",
       "      <td>...</td>\n",
       "      <td>...</td>\n",
       "      <td>...</td>\n",
       "      <td>...</td>\n",
       "      <td>...</td>\n",
       "      <td>...</td>\n",
       "      <td>...</td>\n",
       "      <td>...</td>\n",
       "      <td>...</td>\n",
       "      <td>...</td>\n",
       "      <td>...</td>\n",
       "      <td>...</td>\n",
       "      <td>...</td>\n",
       "      <td>...</td>\n",
       "      <td>...</td>\n",
       "    </tr>\n",
       "    <tr>\n",
       "      <th>7556</th>\n",
       "      <td>4.783064</td>\n",
       "      <td>4.650568</td>\n",
       "      <td>6.236699</td>\n",
       "      <td>4.414741</td>\n",
       "      <td>5.302417</td>\n",
       "      <td>10.408053</td>\n",
       "      <td>4.313408</td>\n",
       "      <td>9.846508</td>\n",
       "      <td>5.683766</td>\n",
       "      <td>4.921431</td>\n",
       "      <td>...</td>\n",
       "      <td>6.925060</td>\n",
       "      <td>7.983046</td>\n",
       "      <td>6.316196</td>\n",
       "      <td>5.572774</td>\n",
       "      <td>5.445257</td>\n",
       "      <td>2.676638</td>\n",
       "      <td>8.857601</td>\n",
       "      <td>12.833145</td>\n",
       "      <td>8.780852</td>\n",
       "      <td>9.736952</td>\n",
       "    </tr>\n",
       "    <tr>\n",
       "      <th>7557</th>\n",
       "      <td>4.784051</td>\n",
       "      <td>4.662604</td>\n",
       "      <td>6.228734</td>\n",
       "      <td>4.426656</td>\n",
       "      <td>5.319977</td>\n",
       "      <td>10.379944</td>\n",
       "      <td>4.319647</td>\n",
       "      <td>9.855199</td>\n",
       "      <td>5.697228</td>\n",
       "      <td>4.965992</td>\n",
       "      <td>...</td>\n",
       "      <td>6.885294</td>\n",
       "      <td>7.915955</td>\n",
       "      <td>6.303882</td>\n",
       "      <td>5.546803</td>\n",
       "      <td>5.462852</td>\n",
       "      <td>2.692130</td>\n",
       "      <td>8.771249</td>\n",
       "      <td>12.772853</td>\n",
       "      <td>8.764285</td>\n",
       "      <td>9.704235</td>\n",
       "    </tr>\n",
       "    <tr>\n",
       "      <th>7558</th>\n",
       "      <td>4.781402</td>\n",
       "      <td>4.676917</td>\n",
       "      <td>6.273837</td>\n",
       "      <td>4.458334</td>\n",
       "      <td>5.313047</td>\n",
       "      <td>10.492622</td>\n",
       "      <td>4.295608</td>\n",
       "      <td>9.834161</td>\n",
       "      <td>5.760152</td>\n",
       "      <td>4.960771</td>\n",
       "      <td>...</td>\n",
       "      <td>6.865616</td>\n",
       "      <td>8.000411</td>\n",
       "      <td>6.317542</td>\n",
       "      <td>5.528961</td>\n",
       "      <td>5.482337</td>\n",
       "      <td>2.688500</td>\n",
       "      <td>8.796653</td>\n",
       "      <td>12.829029</td>\n",
       "      <td>8.737335</td>\n",
       "      <td>9.702773</td>\n",
       "    </tr>\n",
       "    <tr>\n",
       "      <th>7559</th>\n",
       "      <td>4.770550</td>\n",
       "      <td>4.662239</td>\n",
       "      <td>6.280825</td>\n",
       "      <td>4.458407</td>\n",
       "      <td>5.312929</td>\n",
       "      <td>10.423968</td>\n",
       "      <td>4.286858</td>\n",
       "      <td>9.885001</td>\n",
       "      <td>5.783605</td>\n",
       "      <td>4.941396</td>\n",
       "      <td>...</td>\n",
       "      <td>6.841313</td>\n",
       "      <td>7.928566</td>\n",
       "      <td>6.326073</td>\n",
       "      <td>5.536102</td>\n",
       "      <td>5.492606</td>\n",
       "      <td>2.679277</td>\n",
       "      <td>8.741381</td>\n",
       "      <td>12.888380</td>\n",
       "      <td>8.794048</td>\n",
       "      <td>9.648289</td>\n",
       "    </tr>\n",
       "    <tr>\n",
       "      <th>7560</th>\n",
       "      <td>4.781317</td>\n",
       "      <td>4.666780</td>\n",
       "      <td>6.247495</td>\n",
       "      <td>4.467930</td>\n",
       "      <td>5.262577</td>\n",
       "      <td>10.401600</td>\n",
       "      <td>4.292013</td>\n",
       "      <td>9.982317</td>\n",
       "      <td>5.732585</td>\n",
       "      <td>4.934015</td>\n",
       "      <td>...</td>\n",
       "      <td>6.856674</td>\n",
       "      <td>7.922694</td>\n",
       "      <td>6.286893</td>\n",
       "      <td>5.546390</td>\n",
       "      <td>5.511733</td>\n",
       "      <td>2.698268</td>\n",
       "      <td>8.826504</td>\n",
       "      <td>12.921750</td>\n",
       "      <td>8.785994</td>\n",
       "      <td>9.566885</td>\n",
       "    </tr>\n",
       "  </tbody>\n",
       "</table>\n",
       "<p>7561 rows × 500 columns</p>\n",
       "</div>"
      ],
      "text/plain": [
       "           0         1         2         3         4          5         6    \\\n",
       "0     1.000000  1.000000  1.000000  1.000000  1.000000   1.000000  1.000000   \n",
       "1     0.997112  0.998090  1.005664  1.003551  1.001872   1.001737  1.000009   \n",
       "2     0.993219  0.991954  1.010172  1.007966  1.005817   1.000109  0.993405   \n",
       "3     0.982202  0.993613  1.010436  1.011995  0.994060   1.007380  0.985211   \n",
       "4     0.976941  0.993880  1.008757  1.011102  0.997120   1.012489  0.985459   \n",
       "...        ...       ...       ...       ...       ...        ...       ...   \n",
       "7556  4.783064  4.650568  6.236699  4.414741  5.302417  10.408053  4.313408   \n",
       "7557  4.784051  4.662604  6.228734  4.426656  5.319977  10.379944  4.319647   \n",
       "7558  4.781402  4.676917  6.273837  4.458334  5.313047  10.492622  4.295608   \n",
       "7559  4.770550  4.662239  6.280825  4.458407  5.312929  10.423968  4.286858   \n",
       "7560  4.781317  4.666780  6.247495  4.467930  5.262577  10.401600  4.292013   \n",
       "\n",
       "           7         8         9    ...       490       491       492  \\\n",
       "0     1.000000  1.000000  1.000000  ...  1.000000  1.000000  1.000000   \n",
       "1     0.991480  0.994593  0.993620  ...  0.993281  0.994181  1.001788   \n",
       "2     0.988250  0.990996  0.988175  ...  0.994688  0.996921  0.999318   \n",
       "3     0.982506  0.993125  0.989827  ...  0.993631  0.994554  1.003744   \n",
       "4     0.994133  0.989089  0.985850  ...  1.001014  1.000732  1.001361   \n",
       "...        ...       ...       ...  ...       ...       ...       ...   \n",
       "7556  9.846508  5.683766  4.921431  ...  6.925060  7.983046  6.316196   \n",
       "7557  9.855199  5.697228  4.965992  ...  6.885294  7.915955  6.303882   \n",
       "7558  9.834161  5.760152  4.960771  ...  6.865616  8.000411  6.317542   \n",
       "7559  9.885001  5.783605  4.941396  ...  6.841313  7.928566  6.326073   \n",
       "7560  9.982317  5.732585  4.934015  ...  6.856674  7.922694  6.286893   \n",
       "\n",
       "           493       494       495       496        497       498       499  \n",
       "0     1.000000  1.000000  1.000000  1.000000   1.000000  1.000000  1.000000  \n",
       "1     0.997431  0.992065  1.004709  1.006919   0.994734  0.995259  0.993534  \n",
       "2     1.005241  0.989200  0.999660  1.005897   1.000713  0.987507  0.993751  \n",
       "3     0.999538  0.988882  1.002532  1.006399   1.001742  0.984339  0.998455  \n",
       "4     1.002593  0.982984  1.007198  1.017038   0.996689  0.986842  1.002370  \n",
       "...        ...       ...       ...       ...        ...       ...       ...  \n",
       "7556  5.572774  5.445257  2.676638  8.857601  12.833145  8.780852  9.736952  \n",
       "7557  5.546803  5.462852  2.692130  8.771249  12.772853  8.764285  9.704235  \n",
       "7558  5.528961  5.482337  2.688500  8.796653  12.829029  8.737335  9.702773  \n",
       "7559  5.536102  5.492606  2.679277  8.741381  12.888380  8.794048  9.648289  \n",
       "7560  5.546390  5.511733  2.698268  8.826504  12.921750  8.785994  9.566885  \n",
       "\n",
       "[7561 rows x 500 columns]"
      ]
     },
     "execution_count": 66,
     "metadata": {},
     "output_type": "execute_result"
    }
   ],
   "source": [
    "# Running a Monte Carlo simulation to forecast 30 years cumulative returns\n",
    "# .calc_cumulative_return function\n",
    "MC_simulation.calc_cumulative_return()"
   ]
  },
  {
   "cell_type": "code",
   "execution_count": 67,
   "metadata": {},
   "outputs": [
    {
     "data": {
      "image/png": "[encoded data removed]",
      "text/plain": [
       "<Figure size 432x288 with 1 Axes>"
      ]
     },
     "metadata": {
      "needs_background": "light"
     },
     "output_type": "display_data"
    }
   ],
   "source": [
    "# Plot simulation outcomes\n",
    "line_plot = MC_simulation.plot_simulation()\n"
   ]
  },
  {
   "cell_type": "code",
   "execution_count": 68,
   "metadata": {},
   "outputs": [
    {
     "data": {
      "image/png": "[encoded data removed]",
      "text/plain": [
       "<Figure size 432x288 with 1 Axes>"
      ]
     },
     "metadata": {
      "needs_background": "light"
     },
     "output_type": "display_data"
    }
   ],
   "source": [
    "# Plot probability distribution and confidence intervals\n",
    "\n",
    "dist_plot = MC_simulation.plot_distribution()"
   ]
  },
  {
   "cell_type": "markdown",
   "metadata": {},
   "source": [
    "### Retirement Analysis"
   ]
  },
  {
   "cell_type": "code",
   "execution_count": 69,
   "metadata": {},
   "outputs": [
    {
     "name": "stdout",
     "output_type": "stream",
     "text": [
      "count           500.000000\n",
      "mean              6.611535\n",
      "std               2.898650\n",
      "min               1.197766\n",
      "25%               4.464498\n",
      "50%               6.096319\n",
      "75%               8.295117\n",
      "max              16.110894\n",
      "95% CI Lower      2.533189\n",
      "95% CI Upper     13.456653\n",
      "Name: 7560, dtype: float64\n"
     ]
    }
   ],
   "source": [
    "# Fetch summary statistics from the Monte Carlo simulation results\n",
    "\n",
    "tbl = MC_simulation.summarize_cumulative_return()\n",
    "# Print summary statistics\n",
    "print(tbl)"
   ]
  },
  {
   "cell_type": "markdown",
   "metadata": {},
   "source": [
    "### Given an initial investment of $20,000, what is the expected portfolio return in dollars at the 95% lower and upper confidence intervals?"
   ]
  },
  {
   "cell_type": "code",
   "execution_count": 70,
   "metadata": {},
   "outputs": [
    {
     "name": "stdout",
     "output_type": "stream",
     "text": [
      "There is a 95% chance that an initial investment of $20000 in the portfolio over the next 30 years will end within in the range of $50664.0 and $269133.0\n"
     ]
    }
   ],
   "source": [
    "# initial_investment set at top\n",
    "\n",
    "# Use the lower and upper `95%` confidence intervals to calculate the range of the possible outcomes of our $20,000\n",
    "\n",
    "\n",
    "\n",
    "ci_lower = round(tbl[8]*initial_investment)\n",
    "ci_upper = round(tbl[9]*initial_investment)\n",
    "\n",
    "# Print results\n",
    "print(f\"There is a 95% chance that an initial investment of ${initial_investment} in the portfolio\"\n",
    "      f\" over the next 30 years will end within in the range of\"\n",
    "      f\" ${ci_lower} and ${ci_upper}\")"
   ]
  },
  {
   "cell_type": "markdown",
   "metadata": {},
   "source": [
    "### How would a 50% increase in the initial investment amount affect the expected portfolio return in dollars at the 95% lower and upper confidence intervals?"
   ]
  },
  {
   "cell_type": "code",
   "execution_count": 71,
   "metadata": {},
   "outputs": [
    {
     "name": "stdout",
     "output_type": "stream",
     "text": [
      "There is a 95% chance that an initial investment of $30000.0 in the portfolio over the next 30 years will end within in the range of $75996.0 and $403700.0\n"
     ]
    }
   ],
   "source": [
    "# Set initial investment\n",
    "# updated initial investment to initial_investment_increase so initial_investment won't be overwritten in later code\n",
    "initial_investment_increase = initial_investment*1.5\n",
    "\n",
    "# Use the lower and upper `95%` confidence intervals to calculate the range of the possible outcomes of our $30,000\n",
    "\n",
    "\n",
    "ci_lower = round(tbl[8]*initial_investment_increase)\n",
    "ci_upper = round(tbl[9]*initial_investment_increase)\n",
    "\n",
    "# Print results\n",
    "print(f\"There is a 95% chance that an initial investment of ${initial_investment_increase} in the portfolio\"\n",
    "      f\" over the next 30 years will end within in the range of\"\n",
    "      f\" ${ci_lower} and ${ci_upper}\")"
   ]
  },
  {
   "cell_type": "markdown",
   "metadata": {},
   "source": [
    "## Optional Challenge - Early Retirement\n",
    "\n",
    "\n",
    "### Five Years Retirement Option"
   ]
  },
  {
   "cell_type": "code",
   "execution_count": null,
   "metadata": {},
   "outputs": [],
   "source": [
    "#STOP HERE: Commented out code for long version of Optional Challenge go to 3rd cell under Section Part 2 and update variables to change simulation\n",
    "\n",
    "# Configuring a Monte Carlo simulation to forecast 5 years cumulative returns\n",
    "# change num_trading_days = 252*5\n",
    "\"\"\"MC_fiveyear = MCSimulation(\n",
    "    portfolio_data = df_stock_data,\n",
    "    weights = [.60,.40],\n",
    "    num_simulation = 500,\n",
    "    num_trading_days = 252*5\n",
    ")\"\"\""
   ]
  },
  {
   "cell_type": "code",
   "execution_count": null,
   "metadata": {},
   "outputs": [],
   "source": [
    "# Running a Monte Carlo simulation to forecast 5 years cumulative returns\n",
    "\"\"\"MC_fiveyear.portfolio_data.head()\"\"\""
   ]
  },
  {
   "cell_type": "code",
   "execution_count": null,
   "metadata": {},
   "outputs": [],
   "source": [
    "# Plot simulation outcomes\n",
    "# YOUR CODE HERE!\n",
    "\"\"\"line_plot_five = MC_fiveyear.plot_simulation()\"\"\""
   ]
  },
  {
   "cell_type": "code",
   "execution_count": null,
   "metadata": {},
   "outputs": [],
   "source": [
    "# Plot probability distribution and confidence intervals\n",
    "\"\"\"dist_plot_five = MC_fiveyear.plot_distribution()\"\"\""
   ]
  },
  {
   "cell_type": "code",
   "execution_count": null,
   "metadata": {},
   "outputs": [],
   "source": [
    "# Fetch summary statistics from the Monte Carlo simulation results\n",
    "# YOUR CODE HERE!\n",
    "\"\"\"tbl_five = MC_fiveyear.summarize_cumulative_return()\n",
    "\"\"\"\n",
    "# Print summary statistics\n",
    "\"\"\"print(tbl_five)\"\"\""
   ]
  },
  {
   "cell_type": "code",
   "execution_count": null,
   "metadata": {},
   "outputs": [],
   "source": [
    "# Set initial investment\n",
    "# previously set (20000)\n",
    "\n",
    "# Use the lower and upper `95%` confidence intervals to calculate the range of the possible outcomes of our $60,000\n",
    "\n",
    "\"\"\"ci_lower_five = round(tbl_five[8]*initial_investment)\n",
    "ci_upper_five = round(tbl_five[9]*initial_investment)\"\"\"\n",
    "\n",
    "# Print results\n",
    "\"\"\"print(f\"There is a 95% chance that an initial investment of ${initial_investment} in the portfolio\"\n",
    "      f\" over the next 5 years will end within in the range of\"\n",
    "      f\" ${ci_lower_five} and ${ci_upper_five}\")\"\"\""
   ]
  },
  {
   "cell_type": "markdown",
   "metadata": {},
   "source": [
    "### Ten Years Retirement Option"
   ]
  },
  {
   "cell_type": "code",
   "execution_count": null,
   "metadata": {},
   "outputs": [],
   "source": [
    "# Configuring a Monte Carlo simulation to forecast 10 years cumulative returns\n",
    "# change num_trading_days = 252*10\n",
    "\"\"\"MC_tenyear = MCSimulation(\n",
    "    portfolio_data = df_stock_data,\n",
    "    weights = [.60,.40],\n",
    "    num_simulation = 500,\n",
    "    num_trading_days = 252*10\n",
    ")\"\"\""
   ]
  },
  {
   "cell_type": "code",
   "execution_count": null,
   "metadata": {},
   "outputs": [],
   "source": [
    "# Running a Monte Carlo simulation to forecast 10 years cumulative returns\n",
    "\n",
    "\"\"\"MC_tenyear.portfolio_data.head()\"\"\""
   ]
  },
  {
   "cell_type": "code",
   "execution_count": null,
   "metadata": {},
   "outputs": [],
   "source": [
    "# Plot simulation outcomes\n",
    "\"\"\"line_plot_ten = MC_tenyear.plot_simulation()\"\"\""
   ]
  },
  {
   "cell_type": "code",
   "execution_count": null,
   "metadata": {},
   "outputs": [],
   "source": [
    "# Plot probability distribution and confidence intervals\n",
    "# YOUR CODE HERE!\n",
    "\"\"\"dist_plot_ten = MC_tenyear.plot_distribution()\"\"\""
   ]
  },
  {
   "cell_type": "code",
   "execution_count": null,
   "metadata": {},
   "outputs": [],
   "source": [
    "# Fetch summary statistics from the Monte Carlo simulation results\n",
    "# YOUR CODE HERE!\n",
    "\"\"\"tbl_ten = MC_tenyear.summarize_cumulative_return()\n",
    "\"\"\"# Print summary statistics\n",
    "\"\"\"print(tbl_ten)\"\"\""
   ]
  },
  {
   "cell_type": "code",
   "execution_count": null,
   "metadata": {},
   "outputs": [],
   "source": [
    "# Set initial investment\n",
    "\n",
    "\"\"\"ci_lower_ten = round(tbl_ten[8]*initial_investment)\n",
    "ci_upper_ten = round(tbl_ten[9]*initial_investment)\"\"\"\n",
    "# Use the lower and upper `95%` confidence intervals to calculate the range of the possible outcomes of our $60,000\n",
    "# YOUR CODE HERE!\n",
    "\n",
    "# Print results\n",
    "\"\"\"print(f\"There is a 95% chance that an initial investment of ${initial_investment} in the portfolio\"\n",
    "      f\" over the next 10 years will end within in the range of\"\n",
    "      f\" ${ci_lower_ten} and ${ci_upper_ten}\")\"\"\""
   ]
  }
 ],
 "metadata": {
  "kernelspec": {
   "display_name": "Python 3",
   "language": "python",
   "name": "python3"
  },
  "language_info": {
   "codemirror_mode": {
    "name": "ipython",
    "version": 3
   },
   "file_extension": ".py",
   "mimetype": "text/x-python",
   "name": "python",
   "nbconvert_exporter": "python",
   "pygments_lexer": "ipython3",
   "version": "3.8.3"
  }
 },
 "nbformat": 4,
 "nbformat_minor": 4
}
