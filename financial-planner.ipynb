{
 "cells": [
  {
   "cell_type": "markdown",
   "metadata": {},
   "source": [
    "# Unit 5 - Financial Planning\n"
   ]
  },
  {
   "cell_type": "code",
   "execution_count": 1,
   "metadata": {},
   "outputs": [],
   "source": [
    "# Initial imports\n",
    "# add json import\n",
    "import json\n",
    "import os\n",
    "import requests\n",
    "import pandas as pd\n",
    "from dotenv import load_dotenv\n",
    "import alpaca_trade_api as tradeapi\n",
    "from MCForecastTools import MCSimulation\n",
    "\n",
    "%matplotlib inline"
   ]
  },
  {
   "cell_type": "code",
   "execution_count": 2,
   "metadata": {},
   "outputs": [
    {
     "data": {
      "text/plain": [
       "True"
      ]
     },
     "execution_count": 2,
     "metadata": {},
     "output_type": "execute_result"
    }
   ],
   "source": [
    "# Load .env enviroment variables\n",
    "# Expect \"True\" output if this is done correctly\n",
    "load_dotenv()"
   ]
  },
  {
   "cell_type": "markdown",
   "metadata": {},
   "source": [
    "## Part 1 - Personal Finance Planner"
   ]
  },
  {
   "cell_type": "code",
   "execution_count": 3,
   "metadata": {},
   "outputs": [],
   "source": [
    "# Set monthly household income\n",
    "monthly_household_income = 12000"
   ]
  },
  {
   "cell_type": "markdown",
   "metadata": {},
   "source": [
    "### Collect Crypto Prices Using the `requests` Library"
   ]
  },
  {
   "cell_type": "code",
   "execution_count": 4,
   "metadata": {},
   "outputs": [],
   "source": [
    "# Current amount of crypto assets\n",
    "my_btc = 1.2\n",
    "my_eth = 5.3"
   ]
  },
  {
   "cell_type": "code",
   "execution_count": 5,
   "metadata": {},
   "outputs": [
    {
     "name": "stdout",
     "output_type": "stream",
     "text": [
      "{\n",
      "    \"data\": {\n",
      "        \"1\": {\n",
      "            \"id\": 1,\n",
      "            \"name\": \"Bitcoin\",\n",
      "            \"symbol\": \"BTC\",\n",
      "            \"website_slug\": \"bitcoin\",\n",
      "            \"rank\": 1,\n",
      "            \"circulating_supply\": 18472225,\n",
      "            \"total_supply\": 18472225,\n",
      "            \"max_supply\": 21000000,\n",
      "            \"quotes\": {\n",
      "                \"USD\": {\n",
      "                    \"price\": 11336.56,\n",
      "                    \"volume_24h\": 21431327940,\n",
      "                    \"market_cap\": 209427624800,\n",
      "                    \"percentage_change_1h\": -1.46863340512808,\n",
      "                    \"percentage_change_24h\": -1.18778113104058,\n",
      "                    \"percentage_change_7d\": -3.38117545270273,\n",
      "                    \"percent_change_1h\": -1.46863340512808,\n",
      "                    \"percent_change_24h\": -1.18778113104058,\n",
      "                    \"percent_change_7d\": -3.38117545270273\n",
      "                }\n",
      "            },\n",
      "            \"last_updated\": 1598539089\n",
      "        }\n",
      "    },\n",
      "    \"metadata\": {\n",
      "        \"timestamp\": 1598539089,\n",
      "        \"num_cryptocurrencies\": 1493,\n",
      "        \"error\": null\n",
      "    }\n",
      "}\n",
      "{\n",
      "    \"data\": {\n",
      "        \"1027\": {\n",
      "            \"id\": 1027,\n",
      "            \"name\": \"Ethereum\",\n",
      "            \"symbol\": \"ETH\",\n",
      "            \"website_slug\": \"ethereum\",\n",
      "            \"rank\": 2,\n",
      "            \"circulating_supply\": 112354095,\n",
      "            \"total_supply\": 112354095,\n",
      "            \"max_supply\": 0,\n",
      "            \"quotes\": {\n",
      "                \"USD\": {\n",
      "                    \"price\": 385.1,\n",
      "                    \"volume_24h\": 10870865477,\n",
      "                    \"market_cap\": 43162571069,\n",
      "                    \"percentage_change_1h\": -1.40432788763394,\n",
      "                    \"percentage_change_24h\": -0.776409515686477,\n",
      "                    \"percentage_change_7d\": -5.28160241017273,\n",
      "                    \"percent_change_1h\": -1.40432788763394,\n",
      "                    \"percent_change_24h\": -0.776409515686477,\n",
      "                    \"percent_change_7d\": -5.28160241017273\n",
      "                }\n",
      "            },\n",
      "            \"last_updated\": 1598539146\n",
      "        }\n",
      "    },\n",
      "    \"metadata\": {\n",
      "        \"timestamp\": 1598539146,\n",
      "        \"num_cryptocurrencies\": 1493,\n",
      "        \"error\": null\n",
      "    }\n",
      "}\n"
     ]
    }
   ],
   "source": [
    "# Crypto API URLs\n",
    "btc_url = \"https://api.alternative.me/v2/ticker/Bitcoin/?convert=USD\"\n",
    "eth_url = \"https://api.alternative.me/v2/ticker/Ethereum/?convert=USD\"\n",
    "btc_url = btc_url + \"?format=json\"\n",
    "eth_url = eth_url + \"?format=json\"\n",
    "#execute get request on btc & eth & store response as variable\n",
    "#requests.get(btc_url)\n",
    "#requests.get(eth_url)\n",
    "btc_response_data = requests.get(btc_url)\n",
    "eth_response_data = requests.get(eth_url)\n",
    "#use json function from json library to format\n",
    "#import json, added to initial imports list\n",
    "btc_data = btc_response_data.json()\n",
    "eth_data = eth_response_data.json()\n",
    "#add indents (4) to JSON and output to screen for both btc & eth\n",
    "print(json.dumps(btc_data, indent=4))\n",
    "print(json.dumps(eth_data, indent=4))"
   ]
  },
  {
   "cell_type": "code",
   "execution_count": 6,
   "metadata": {},
   "outputs": [
    {
     "name": "stdout",
     "output_type": "stream",
     "text": [
      "The current value of your 1.2 BTC is $13603.87\n",
      "The current value of your 5.3 ETH is $2041.03\n"
     ]
    }
   ],
   "source": [
    "# Fetch current BTC price\n",
    "# select current btc price from formatted json data & set as float\n",
    "# use variable btc_price_current, keep \"btc\" at the beginning of all variables for quicker identification later\n",
    "btc_price_current = float(btc_data['data']['1']['quotes']['USD']['price'])\n",
    "# Fetch current ETH price\n",
    "# select current eth price from formatted json data & set as float\n",
    "#use variable eth_price_current, keep \"eth\" at the beginning of all variables for quicker identification\n",
    "eth_price_current = float(eth_data['data']['1027']['quotes']['USD']['price'])\n",
    "# Compute current value of my crpto\n",
    "# values will equal my_btc*btc_price_current & my_eth*eth_price_current - set new variables\n",
    "my_btc_value = my_btc*btc_price_current\n",
    "my_eth_value = my_eth*eth_price_current\n",
    "\n",
    "# Print current crypto wallet balance format to 0.2\n",
    "print(f\"The current value of your {my_btc} BTC is ${my_btc_value:0.2f}\")\n",
    "print(f\"The current value of your {my_eth} ETH is ${my_eth_value:0.2f}\")"
   ]
  },
  {
   "cell_type": "markdown",
   "metadata": {},
   "source": [
    "### Collect Investments Data Using Alpaca: `SPY` (stocks) and `AGG` (bonds)"
   ]
  },
  {
   "cell_type": "code",
   "execution_count": 7,
   "metadata": {},
   "outputs": [],
   "source": [
    "# Current amount of shares\n",
    "my_agg = 200\n",
    "my_spy = 50"
   ]
  },
  {
   "cell_type": "code",
   "execution_count": 8,
   "metadata": {},
   "outputs": [
    {
     "name": "stdout",
     "output_type": "stream",
     "text": [
      "Alpaca Key type: <class 'str'>\n",
      "Alpaca Secret Key type <class 'str'>\n"
     ]
    }
   ],
   "source": [
    "# Set Alpaca API key and secret\n",
    "# add api_key var using .getenv\n",
    "# print var type for each key: expect \"str\" output if key was imported correctly\n",
    "alpaca_api_key = os.getenv(\"ALPACA_API_KEY\")\n",
    "alpaca_secret_key = os.getenv(\"ALPACA_SECRET_KEY\")\n",
    "print(f\"Alpaca Key type: {type(alpaca_api_key)}\")\n",
    "print(f\"Alpaca Secret Key type {type(alpaca_secret_key)}\")\n",
    "\n",
    "# Create the Alpaca API object\n",
    "alpaca = tradeapi.REST(\n",
    "    alpaca_api_key,\n",
    "    alpaca_secret_key,\n",
    "    api_version=\"v2\")"
   ]
  },
  {
   "cell_type": "code",
   "execution_count": 9,
   "metadata": {},
   "outputs": [
    {
     "name": "stdout",
     "output_type": "stream",
     "text": [
      "Current AGG closing price: $118.62\n",
      "Current SPY closing price: $342.94\n"
     ]
    }
   ],
   "source": [
    "# Format current date as ISO format\n",
    "today = pd.Timestamp(\"2020-08-24\", tz=\"America/Chicago\").isoformat()\n",
    "\n",
    "# Set the tickers\n",
    "tickers = [\"AGG\", \"SPY\"]\n",
    "\n",
    "# Set timeframe to '1D' for Alpaca API\n",
    "timeframe = \"1D\"\n",
    "\n",
    "# Get current closing prices for SPY and AGG\n",
    "# YOUR CODE HERE!\n",
    "df_portfolio = alpaca.get_barset(\n",
    "    tickers,\n",
    "    timeframe,\n",
    "    start = today,\n",
    "    end = today\n",
    ").df\n",
    "#print(df_portfolio.head())\n",
    "# Pick AGG and SPY close prices\n",
    "agg_close_price = float(df_portfolio[\"AGG\"][\"close\"])\n",
    "spy_close_price = float(df_portfolio[\"SPY\"][\"close\"])\n",
    "# Print AGG and SPY close prices\n",
    "print(f\"Current AGG closing price: ${agg_close_price}\")\n",
    "print(f\"Current SPY closing price: ${spy_close_price}\")"
   ]
  },
  {
   "cell_type": "code",
   "execution_count": 10,
   "metadata": {},
   "outputs": [
    {
     "name": "stdout",
     "output_type": "stream",
     "text": [
      "The current value of your 50 SPY shares is $17147.00\n",
      "The current value of your 200 AGG shares is $23724.00\n"
     ]
    }
   ],
   "source": [
    "# Compute the current value of shares\n",
    "# my_value = shares*close_price\n",
    "my_agg_value = my_agg*agg_close_price\n",
    "my_spy_value = my_spy*spy_close_price\n",
    "\n",
    "# Print current value of share\n",
    "print(f\"The current value of your {my_spy} SPY shares is ${my_spy_value:0.2f}\")\n",
    "print(f\"The current value of your {my_agg} AGG shares is ${my_agg_value:0.2f}\")"
   ]
  },
  {
   "cell_type": "markdown",
   "metadata": {},
   "source": [
    "### Savings Health Analysis"
   ]
  },
  {
   "cell_type": "code",
   "execution_count": 11,
   "metadata": {},
   "outputs": [
    {
     "data": {
      "text/html": [
       "<div>\n",
       "<style scoped>\n",
       "    .dataframe tbody tr th:only-of-type {\n",
       "        vertical-align: middle;\n",
       "    }\n",
       "\n",
       "    .dataframe tbody tr th {\n",
       "        vertical-align: top;\n",
       "    }\n",
       "\n",
       "    .dataframe thead th {\n",
       "        text-align: right;\n",
       "    }\n",
       "</style>\n",
       "<table border=\"1\" class=\"dataframe\">\n",
       "  <thead>\n",
       "    <tr style=\"text-align: right;\">\n",
       "      <th></th>\n",
       "      <th>amount</th>\n",
       "    </tr>\n",
       "  </thead>\n",
       "  <tbody>\n",
       "    <tr>\n",
       "      <th>shares</th>\n",
       "      <td>40871.000</td>\n",
       "    </tr>\n",
       "    <tr>\n",
       "      <th>crypto</th>\n",
       "      <td>15644.902</td>\n",
       "    </tr>\n",
       "  </tbody>\n",
       "</table>\n",
       "</div>"
      ],
      "text/plain": [
       "           amount\n",
       "shares  40871.000\n",
       "crypto  15644.902"
      ]
     },
     "metadata": {},
     "output_type": "display_data"
    }
   ],
   "source": [
    "#set two new variables for total amount of shares and total amount of crypto - my_shares_value & my_crypto_value\n",
    "my_shares_value = my_agg_value+my_spy_value\n",
    "my_crypto_value = my_btc_value+my_eth_value\n",
    "# Create savings DataFrame\n",
    "# Create dictionary \"savings_value\" Keys: amount, shares, crypto\n",
    "savings_value = {   \n",
    "    \"amount\":[my_shares_value,my_crypto_value],\n",
    "    \"shares\": [my_shares_value],\n",
    "    \"crypto\": [my_crypto_value]\n",
    "}\n",
    "\n",
    "# use savings_value dict and assign keys to index or columns\n",
    "# index = \"shares\" & \"crypto\"\n",
    "# columns = \"amount\"\n",
    "df_savings = pd.DataFrame(savings_value, index=[\"shares\", \"crypto\"], columns=[\"amount\"])\n",
    "\n",
    "# Display savings DataFrame\n",
    "display(df_savings)"
   ]
  },
  {
   "cell_type": "code",
   "execution_count": 12,
   "metadata": {},
   "outputs": [
    {
     "data": {
      "text/plain": [
       "<matplotlib.axes._subplots.AxesSubplot at 0x17b4ce59160>"
      ]
     },
     "execution_count": 12,
     "metadata": {},
     "output_type": "execute_result"
    },
    {
     "data": {
      "image/png": "[encoded data removed]",
      "text/plain": [
       "<Figure size 432x288 with 1 Axes>"
      ]
     },
     "metadata": {},
     "output_type": "display_data"
    }
   ],
   "source": [
    "# Plot savings pie chart\n",
    "df_savings.plot.pie(y=\"amount\", title=\"Composition of Personal Savings\")"
   ]
  },
  {
   "cell_type": "code",
   "execution_count": 13,
   "metadata": {},
   "outputs": [
    {
     "name": "stdout",
     "output_type": "stream",
     "text": [
      "Congratulations! You have enough money in your savings fund!\n"
     ]
    }
   ],
   "source": [
    "# Set ideal emergency fund\n",
    "monthly_income = monthly_household_income\n",
    "emergency_fund = monthly_income * 3\n",
    "\n",
    "# Calculate total amount of savings\n",
    "total_savings = my_shares_value+my_crypto_value\n",
    "\n",
    "# Validate saving health\n",
    "# adjusted monthly_household_income & reran to check all options will print\n",
    "if total_savings > emergency_fund:\n",
    "    print(\"Congratulations! You have enough money in your savings fund!\")\n",
    "elif total_savings == emergency_fund:\n",
    "    print(\"Congratulations!  You have reached your financial goal!\")\n",
    "elif total_savings < emergency_fund:\n",
    "    print(f\"You are ${(emergency_fund-total_savings)} away from reaching your savings goal of ${emergency_fund}!\")"
   ]
  },
  {
   "cell_type": "markdown",
   "metadata": {},
   "source": [
    "## Part 2 - Retirement Planning\n",
    "\n",
    "### Monte Carlo Simulation"
   ]
  },
  {
   "cell_type": "code",
   "execution_count": 14,
   "metadata": {},
   "outputs": [],
   "source": [
    "# Set start and end dates of five years back from today.\n",
    "# Sample results may vary from the solution based on the time frame chosen\n",
    "start_date = pd.Timestamp('2015-08-24', tz='America/Chicago').isoformat()\n",
    "end_date = pd.Timestamp('2020-08-24', tz='America/Chicago').isoformat()"
   ]
  },
  {
   "cell_type": "code",
   "execution_count": 15,
   "metadata": {},
   "outputs": [
    {
     "data": {
      "text/html": [
       "<div>\n",
       "<style scoped>\n",
       "    .dataframe tbody tr th:only-of-type {\n",
       "        vertical-align: middle;\n",
       "    }\n",
       "\n",
       "    .dataframe tbody tr th {\n",
       "        vertical-align: top;\n",
       "    }\n",
       "\n",
       "    .dataframe thead tr th {\n",
       "        text-align: left;\n",
       "    }\n",
       "</style>\n",
       "<table border=\"1\" class=\"dataframe\">\n",
       "  <thead>\n",
       "    <tr>\n",
       "      <th></th>\n",
       "      <th colspan=\"5\" halign=\"left\">AGG</th>\n",
       "      <th colspan=\"5\" halign=\"left\">SPY</th>\n",
       "    </tr>\n",
       "    <tr>\n",
       "      <th></th>\n",
       "      <th>open</th>\n",
       "      <th>high</th>\n",
       "      <th>low</th>\n",
       "      <th>close</th>\n",
       "      <th>volume</th>\n",
       "      <th>open</th>\n",
       "      <th>high</th>\n",
       "      <th>low</th>\n",
       "      <th>close</th>\n",
       "      <th>volume</th>\n",
       "    </tr>\n",
       "  </thead>\n",
       "  <tbody>\n",
       "    <tr>\n",
       "      <th>2015-08-24 00:00:00-04:00</th>\n",
       "      <td>110.00</td>\n",
       "      <td>110.340</td>\n",
       "      <td>109.57</td>\n",
       "      <td>109.730</td>\n",
       "      <td>5065966</td>\n",
       "      <td>187.33</td>\n",
       "      <td>195.840</td>\n",
       "      <td>182.40</td>\n",
       "      <td>189.48</td>\n",
       "      <td>353841446</td>\n",
       "    </tr>\n",
       "    <tr>\n",
       "      <th>2015-08-25 00:00:00-04:00</th>\n",
       "      <td>109.70</td>\n",
       "      <td>109.700</td>\n",
       "      <td>109.13</td>\n",
       "      <td>109.450</td>\n",
       "      <td>3843124</td>\n",
       "      <td>195.43</td>\n",
       "      <td>195.450</td>\n",
       "      <td>187.06</td>\n",
       "      <td>187.24</td>\n",
       "      <td>270267060</td>\n",
       "    </tr>\n",
       "    <tr>\n",
       "      <th>2015-08-26 00:00:00-04:00</th>\n",
       "      <td>109.08</td>\n",
       "      <td>109.410</td>\n",
       "      <td>108.88</td>\n",
       "      <td>108.950</td>\n",
       "      <td>3673170</td>\n",
       "      <td>192.08</td>\n",
       "      <td>194.790</td>\n",
       "      <td>188.37</td>\n",
       "      <td>194.56</td>\n",
       "      <td>255843495</td>\n",
       "    </tr>\n",
       "    <tr>\n",
       "      <th>2015-08-27 00:00:00-04:00</th>\n",
       "      <td>108.95</td>\n",
       "      <td>109.195</td>\n",
       "      <td>108.93</td>\n",
       "      <td>109.100</td>\n",
       "      <td>3454665</td>\n",
       "      <td>197.02</td>\n",
       "      <td>199.410</td>\n",
       "      <td>195.21</td>\n",
       "      <td>199.28</td>\n",
       "      <td>226847229</td>\n",
       "    </tr>\n",
       "    <tr>\n",
       "      <th>2015-08-28 00:00:00-04:00</th>\n",
       "      <td>109.34</td>\n",
       "      <td>109.370</td>\n",
       "      <td>108.93</td>\n",
       "      <td>109.001</td>\n",
       "      <td>4604866</td>\n",
       "      <td>198.50</td>\n",
       "      <td>199.835</td>\n",
       "      <td>197.92</td>\n",
       "      <td>199.28</td>\n",
       "      <td>111959716</td>\n",
       "    </tr>\n",
       "  </tbody>\n",
       "</table>\n",
       "</div>"
      ],
      "text/plain": [
       "                              AGG                                        SPY  \\\n",
       "                             open     high     low    close   volume    open   \n",
       "2015-08-24 00:00:00-04:00  110.00  110.340  109.57  109.730  5065966  187.33   \n",
       "2015-08-25 00:00:00-04:00  109.70  109.700  109.13  109.450  3843124  195.43   \n",
       "2015-08-26 00:00:00-04:00  109.08  109.410  108.88  108.950  3673170  192.08   \n",
       "2015-08-27 00:00:00-04:00  108.95  109.195  108.93  109.100  3454665  197.02   \n",
       "2015-08-28 00:00:00-04:00  109.34  109.370  108.93  109.001  4604866  198.50   \n",
       "\n",
       "                                                               \n",
       "                              high     low   close     volume  \n",
       "2015-08-24 00:00:00-04:00  195.840  182.40  189.48  353841446  \n",
       "2015-08-25 00:00:00-04:00  195.450  187.06  187.24  270267060  \n",
       "2015-08-26 00:00:00-04:00  194.790  188.37  194.56  255843495  \n",
       "2015-08-27 00:00:00-04:00  199.410  195.21  199.28  226847229  \n",
       "2015-08-28 00:00:00-04:00  199.835  197.92  199.28  111959716  "
      ]
     },
     "execution_count": 15,
     "metadata": {},
     "output_type": "execute_result"
    }
   ],
   "source": [
    "# Get 5 years' worth of historical data for SPY and AGG\n",
    "# Create ticker var for SPY & AGG\n",
    "ticker = ['SPY', 'AGG']\n",
    "#set timeframe to 1D\n",
    "timeframe = \"1D\"\n",
    "#create dataframe \"df_stock_data\"\n",
    "df_stock_data = alpaca.get_barset(\n",
    "    ticker,\n",
    "    timeframe,\n",
    "    start=start_date,\n",
    "    end=end_date\n",
    ").df\n",
    "#df_stock_data = pd.DataFrame(df_historical)\n",
    "# Display sample data\n",
    "df_stock_data.head()"
   ]
  },
  {
   "cell_type": "code",
   "execution_count": 16,
   "metadata": {},
   "outputs": [],
   "source": [
    "# Configuring a Monte Carlo simulation to forecast 30 years cumulative returns\n",
    "# Use MC_thirty year: need to call portfolio_data = df_stock_data\n",
    "# weights = 60/40\n",
    "# num_simulation = number of runs (500)\n",
    "# num_trading_days = (always 252 days)*(number of years to run simulation=30)\n",
    "MC_thirtyyear = MCSimulation(\n",
    "    portfolio_data = df_stock_data,\n",
    "    weights = [.60,.40],\n",
    "    num_simulation = 500,\n",
    "    num_trading_days = 252*30\n",
    ")"
   ]
  },
  {
   "cell_type": "code",
   "execution_count": 17,
   "metadata": {},
   "outputs": [
    {
     "data": {
      "text/html": [
       "<div>\n",
       "<style scoped>\n",
       "    .dataframe tbody tr th:only-of-type {\n",
       "        vertical-align: middle;\n",
       "    }\n",
       "\n",
       "    .dataframe tbody tr th {\n",
       "        vertical-align: top;\n",
       "    }\n",
       "\n",
       "    .dataframe thead tr th {\n",
       "        text-align: left;\n",
       "    }\n",
       "</style>\n",
       "<table border=\"1\" class=\"dataframe\">\n",
       "  <thead>\n",
       "    <tr>\n",
       "      <th></th>\n",
       "      <th colspan=\"6\" halign=\"left\">AGG</th>\n",
       "      <th colspan=\"6\" halign=\"left\">SPY</th>\n",
       "    </tr>\n",
       "    <tr>\n",
       "      <th></th>\n",
       "      <th>open</th>\n",
       "      <th>high</th>\n",
       "      <th>low</th>\n",
       "      <th>close</th>\n",
       "      <th>volume</th>\n",
       "      <th>daily_return</th>\n",
       "      <th>open</th>\n",
       "      <th>high</th>\n",
       "      <th>low</th>\n",
       "      <th>close</th>\n",
       "      <th>volume</th>\n",
       "      <th>daily_return</th>\n",
       "    </tr>\n",
       "  </thead>\n",
       "  <tbody>\n",
       "    <tr>\n",
       "      <th>2015-08-24 00:00:00-04:00</th>\n",
       "      <td>110.00</td>\n",
       "      <td>110.340</td>\n",
       "      <td>109.57</td>\n",
       "      <td>109.730</td>\n",
       "      <td>5065966</td>\n",
       "      <td>NaN</td>\n",
       "      <td>187.33</td>\n",
       "      <td>195.840</td>\n",
       "      <td>182.40</td>\n",
       "      <td>189.48</td>\n",
       "      <td>353841446</td>\n",
       "      <td>NaN</td>\n",
       "    </tr>\n",
       "    <tr>\n",
       "      <th>2015-08-25 00:00:00-04:00</th>\n",
       "      <td>109.70</td>\n",
       "      <td>109.700</td>\n",
       "      <td>109.13</td>\n",
       "      <td>109.450</td>\n",
       "      <td>3843124</td>\n",
       "      <td>-0.002552</td>\n",
       "      <td>195.43</td>\n",
       "      <td>195.450</td>\n",
       "      <td>187.06</td>\n",
       "      <td>187.24</td>\n",
       "      <td>270267060</td>\n",
       "      <td>-0.011822</td>\n",
       "    </tr>\n",
       "    <tr>\n",
       "      <th>2015-08-26 00:00:00-04:00</th>\n",
       "      <td>109.08</td>\n",
       "      <td>109.410</td>\n",
       "      <td>108.88</td>\n",
       "      <td>108.950</td>\n",
       "      <td>3673170</td>\n",
       "      <td>-0.004568</td>\n",
       "      <td>192.08</td>\n",
       "      <td>194.790</td>\n",
       "      <td>188.37</td>\n",
       "      <td>194.56</td>\n",
       "      <td>255843495</td>\n",
       "      <td>0.039094</td>\n",
       "    </tr>\n",
       "    <tr>\n",
       "      <th>2015-08-27 00:00:00-04:00</th>\n",
       "      <td>108.95</td>\n",
       "      <td>109.195</td>\n",
       "      <td>108.93</td>\n",
       "      <td>109.100</td>\n",
       "      <td>3454665</td>\n",
       "      <td>0.001377</td>\n",
       "      <td>197.02</td>\n",
       "      <td>199.410</td>\n",
       "      <td>195.21</td>\n",
       "      <td>199.28</td>\n",
       "      <td>226847229</td>\n",
       "      <td>0.024260</td>\n",
       "    </tr>\n",
       "    <tr>\n",
       "      <th>2015-08-28 00:00:00-04:00</th>\n",
       "      <td>109.34</td>\n",
       "      <td>109.370</td>\n",
       "      <td>108.93</td>\n",
       "      <td>109.001</td>\n",
       "      <td>4604866</td>\n",
       "      <td>-0.000907</td>\n",
       "      <td>198.50</td>\n",
       "      <td>199.835</td>\n",
       "      <td>197.92</td>\n",
       "      <td>199.28</td>\n",
       "      <td>111959716</td>\n",
       "      <td>0.000000</td>\n",
       "    </tr>\n",
       "  </tbody>\n",
       "</table>\n",
       "</div>"
      ],
      "text/plain": [
       "                              AGG                                     \\\n",
       "                             open     high     low    close   volume   \n",
       "2015-08-24 00:00:00-04:00  110.00  110.340  109.57  109.730  5065966   \n",
       "2015-08-25 00:00:00-04:00  109.70  109.700  109.13  109.450  3843124   \n",
       "2015-08-26 00:00:00-04:00  109.08  109.410  108.88  108.950  3673170   \n",
       "2015-08-27 00:00:00-04:00  108.95  109.195  108.93  109.100  3454665   \n",
       "2015-08-28 00:00:00-04:00  109.34  109.370  108.93  109.001  4604866   \n",
       "\n",
       "                                           SPY                           \\\n",
       "                          daily_return    open     high     low   close   \n",
       "2015-08-24 00:00:00-04:00          NaN  187.33  195.840  182.40  189.48   \n",
       "2015-08-25 00:00:00-04:00    -0.002552  195.43  195.450  187.06  187.24   \n",
       "2015-08-26 00:00:00-04:00    -0.004568  192.08  194.790  188.37  194.56   \n",
       "2015-08-27 00:00:00-04:00     0.001377  197.02  199.410  195.21  199.28   \n",
       "2015-08-28 00:00:00-04:00    -0.000907  198.50  199.835  197.92  199.28   \n",
       "\n",
       "                                                   \n",
       "                              volume daily_return  \n",
       "2015-08-24 00:00:00-04:00  353841446          NaN  \n",
       "2015-08-25 00:00:00-04:00  270267060    -0.011822  \n",
       "2015-08-26 00:00:00-04:00  255843495     0.039094  \n",
       "2015-08-27 00:00:00-04:00  226847229     0.024260  \n",
       "2015-08-28 00:00:00-04:00  111959716     0.000000  "
      ]
     },
     "execution_count": 17,
     "metadata": {},
     "output_type": "execute_result"
    }
   ],
   "source": [
    "# Printing the simulation input data\n",
    "# YOUR CODE HERE!\n",
    "MC_thirtyyear.portfolio_data.head()"
   ]
  },
  {
   "cell_type": "code",
   "execution_count": 18,
   "metadata": {},
   "outputs": [
    {
     "name": "stdout",
     "output_type": "stream",
     "text": [
      "Running Monte Carlo simulation number 0.\n",
      "Running Monte Carlo simulation number 10.\n",
      "Running Monte Carlo simulation number 20.\n",
      "Running Monte Carlo simulation number 30.\n",
      "Running Monte Carlo simulation number 40.\n",
      "Running Monte Carlo simulation number 50.\n",
      "Running Monte Carlo simulation number 60.\n",
      "Running Monte Carlo simulation number 70.\n",
      "Running Monte Carlo simulation number 80.\n",
      "Running Monte Carlo simulation number 90.\n",
      "Running Monte Carlo simulation number 100.\n",
      "Running Monte Carlo simulation number 110.\n",
      "Running Monte Carlo simulation number 120.\n",
      "Running Monte Carlo simulation number 130.\n",
      "Running Monte Carlo simulation number 140.\n",
      "Running Monte Carlo simulation number 150.\n",
      "Running Monte Carlo simulation number 160.\n",
      "Running Monte Carlo simulation number 170.\n",
      "Running Monte Carlo simulation number 180.\n",
      "Running Monte Carlo simulation number 190.\n",
      "Running Monte Carlo simulation number 200.\n",
      "Running Monte Carlo simulation number 210.\n",
      "Running Monte Carlo simulation number 220.\n",
      "Running Monte Carlo simulation number 230.\n",
      "Running Monte Carlo simulation number 240.\n",
      "Running Monte Carlo simulation number 250.\n",
      "Running Monte Carlo simulation number 260.\n",
      "Running Monte Carlo simulation number 270.\n",
      "Running Monte Carlo simulation number 280.\n",
      "Running Monte Carlo simulation number 290.\n",
      "Running Monte Carlo simulation number 300.\n",
      "Running Monte Carlo simulation number 310.\n",
      "Running Monte Carlo simulation number 320.\n",
      "Running Monte Carlo simulation number 330.\n",
      "Running Monte Carlo simulation number 340.\n",
      "Running Monte Carlo simulation number 350.\n",
      "Running Monte Carlo simulation number 360.\n",
      "Running Monte Carlo simulation number 370.\n",
      "Running Monte Carlo simulation number 380.\n",
      "Running Monte Carlo simulation number 390.\n",
      "Running Monte Carlo simulation number 400.\n",
      "Running Monte Carlo simulation number 410.\n",
      "Running Monte Carlo simulation number 420.\n",
      "Running Monte Carlo simulation number 430.\n",
      "Running Monte Carlo simulation number 440.\n",
      "Running Monte Carlo simulation number 450.\n",
      "Running Monte Carlo simulation number 460.\n",
      "Running Monte Carlo simulation number 470.\n",
      "Running Monte Carlo simulation number 480.\n",
      "Running Monte Carlo simulation number 490.\n"
     ]
    },
    {
     "data": {
      "text/html": [
       "<div>\n",
       "<style scoped>\n",
       "    .dataframe tbody tr th:only-of-type {\n",
       "        vertical-align: middle;\n",
       "    }\n",
       "\n",
       "    .dataframe tbody tr th {\n",
       "        vertical-align: top;\n",
       "    }\n",
       "\n",
       "    .dataframe thead th {\n",
       "        text-align: right;\n",
       "    }\n",
       "</style>\n",
       "<table border=\"1\" class=\"dataframe\">\n",
       "  <thead>\n",
       "    <tr style=\"text-align: right;\">\n",
       "      <th></th>\n",
       "      <th>0</th>\n",
       "      <th>1</th>\n",
       "      <th>2</th>\n",
       "      <th>3</th>\n",
       "      <th>4</th>\n",
       "      <th>5</th>\n",
       "      <th>6</th>\n",
       "      <th>7</th>\n",
       "      <th>8</th>\n",
       "      <th>9</th>\n",
       "      <th>...</th>\n",
       "      <th>490</th>\n",
       "      <th>491</th>\n",
       "      <th>492</th>\n",
       "      <th>493</th>\n",
       "      <th>494</th>\n",
       "      <th>495</th>\n",
       "      <th>496</th>\n",
       "      <th>497</th>\n",
       "      <th>498</th>\n",
       "      <th>499</th>\n",
       "    </tr>\n",
       "  </thead>\n",
       "  <tbody>\n",
       "    <tr>\n",
       "      <th>0</th>\n",
       "      <td>1.000000</td>\n",
       "      <td>1.000000</td>\n",
       "      <td>1.000000</td>\n",
       "      <td>1.000000</td>\n",
       "      <td>1.000000</td>\n",
       "      <td>1.000000</td>\n",
       "      <td>1.000000</td>\n",
       "      <td>1.000000</td>\n",
       "      <td>1.000000</td>\n",
       "      <td>1.000000</td>\n",
       "      <td>...</td>\n",
       "      <td>1.000000</td>\n",
       "      <td>1.000000</td>\n",
       "      <td>1.000000</td>\n",
       "      <td>1.000000</td>\n",
       "      <td>1.000000</td>\n",
       "      <td>1.000000</td>\n",
       "      <td>1.000000</td>\n",
       "      <td>1.000000</td>\n",
       "      <td>1.000000</td>\n",
       "      <td>1.000000</td>\n",
       "    </tr>\n",
       "    <tr>\n",
       "      <th>1</th>\n",
       "      <td>1.009305</td>\n",
       "      <td>0.993768</td>\n",
       "      <td>1.009305</td>\n",
       "      <td>0.999743</td>\n",
       "      <td>0.996278</td>\n",
       "      <td>1.001541</td>\n",
       "      <td>0.989845</td>\n",
       "      <td>1.010389</td>\n",
       "      <td>0.996251</td>\n",
       "      <td>1.004106</td>\n",
       "      <td>...</td>\n",
       "      <td>0.990386</td>\n",
       "      <td>1.006161</td>\n",
       "      <td>1.003201</td>\n",
       "      <td>0.995100</td>\n",
       "      <td>1.009182</td>\n",
       "      <td>1.000771</td>\n",
       "      <td>0.998067</td>\n",
       "      <td>1.005483</td>\n",
       "      <td>1.000333</td>\n",
       "      <td>1.008047</td>\n",
       "    </tr>\n",
       "    <tr>\n",
       "      <th>2</th>\n",
       "      <td>1.005924</td>\n",
       "      <td>0.997185</td>\n",
       "      <td>1.008287</td>\n",
       "      <td>0.991736</td>\n",
       "      <td>0.993318</td>\n",
       "      <td>1.005145</td>\n",
       "      <td>0.994953</td>\n",
       "      <td>1.010071</td>\n",
       "      <td>0.992445</td>\n",
       "      <td>1.014223</td>\n",
       "      <td>...</td>\n",
       "      <td>0.994859</td>\n",
       "      <td>1.008043</td>\n",
       "      <td>1.001935</td>\n",
       "      <td>0.995618</td>\n",
       "      <td>1.008818</td>\n",
       "      <td>0.993313</td>\n",
       "      <td>1.000468</td>\n",
       "      <td>1.013910</td>\n",
       "      <td>1.007324</td>\n",
       "      <td>0.999520</td>\n",
       "    </tr>\n",
       "    <tr>\n",
       "      <th>3</th>\n",
       "      <td>1.009465</td>\n",
       "      <td>0.997698</td>\n",
       "      <td>1.005589</td>\n",
       "      <td>0.991942</td>\n",
       "      <td>0.998228</td>\n",
       "      <td>1.008462</td>\n",
       "      <td>1.006137</td>\n",
       "      <td>1.012346</td>\n",
       "      <td>0.998389</td>\n",
       "      <td>1.014153</td>\n",
       "      <td>...</td>\n",
       "      <td>0.999102</td>\n",
       "      <td>1.008875</td>\n",
       "      <td>0.993855</td>\n",
       "      <td>0.992929</td>\n",
       "      <td>1.008311</td>\n",
       "      <td>0.995269</td>\n",
       "      <td>1.001144</td>\n",
       "      <td>1.012377</td>\n",
       "      <td>1.013372</td>\n",
       "      <td>1.008993</td>\n",
       "    </tr>\n",
       "    <tr>\n",
       "      <th>4</th>\n",
       "      <td>1.010109</td>\n",
       "      <td>0.999006</td>\n",
       "      <td>1.004874</td>\n",
       "      <td>0.997200</td>\n",
       "      <td>1.005802</td>\n",
       "      <td>1.015870</td>\n",
       "      <td>1.008172</td>\n",
       "      <td>1.020658</td>\n",
       "      <td>1.005072</td>\n",
       "      <td>1.026931</td>\n",
       "      <td>...</td>\n",
       "      <td>1.000345</td>\n",
       "      <td>1.003159</td>\n",
       "      <td>0.997782</td>\n",
       "      <td>0.989103</td>\n",
       "      <td>1.011971</td>\n",
       "      <td>0.995973</td>\n",
       "      <td>1.002020</td>\n",
       "      <td>1.014901</td>\n",
       "      <td>1.017262</td>\n",
       "      <td>1.006777</td>\n",
       "    </tr>\n",
       "    <tr>\n",
       "      <th>...</th>\n",
       "      <td>...</td>\n",
       "      <td>...</td>\n",
       "      <td>...</td>\n",
       "      <td>...</td>\n",
       "      <td>...</td>\n",
       "      <td>...</td>\n",
       "      <td>...</td>\n",
       "      <td>...</td>\n",
       "      <td>...</td>\n",
       "      <td>...</td>\n",
       "      <td>...</td>\n",
       "      <td>...</td>\n",
       "      <td>...</td>\n",
       "      <td>...</td>\n",
       "      <td>...</td>\n",
       "      <td>...</td>\n",
       "      <td>...</td>\n",
       "      <td>...</td>\n",
       "      <td>...</td>\n",
       "      <td>...</td>\n",
       "      <td>...</td>\n",
       "    </tr>\n",
       "    <tr>\n",
       "      <th>7556</th>\n",
       "      <td>9.966617</td>\n",
       "      <td>3.561318</td>\n",
       "      <td>7.265404</td>\n",
       "      <td>4.183843</td>\n",
       "      <td>6.799394</td>\n",
       "      <td>12.007022</td>\n",
       "      <td>13.919655</td>\n",
       "      <td>9.293542</td>\n",
       "      <td>10.620078</td>\n",
       "      <td>10.804635</td>\n",
       "      <td>...</td>\n",
       "      <td>2.808267</td>\n",
       "      <td>7.919102</td>\n",
       "      <td>5.039491</td>\n",
       "      <td>3.874427</td>\n",
       "      <td>5.207035</td>\n",
       "      <td>6.707116</td>\n",
       "      <td>6.785323</td>\n",
       "      <td>5.439620</td>\n",
       "      <td>13.110185</td>\n",
       "      <td>8.094884</td>\n",
       "    </tr>\n",
       "    <tr>\n",
       "      <th>7557</th>\n",
       "      <td>9.968241</td>\n",
       "      <td>3.565175</td>\n",
       "      <td>7.305852</td>\n",
       "      <td>4.182386</td>\n",
       "      <td>6.787288</td>\n",
       "      <td>12.080286</td>\n",
       "      <td>14.029135</td>\n",
       "      <td>9.326605</td>\n",
       "      <td>10.588140</td>\n",
       "      <td>10.964688</td>\n",
       "      <td>...</td>\n",
       "      <td>2.801814</td>\n",
       "      <td>7.884867</td>\n",
       "      <td>5.005266</td>\n",
       "      <td>3.914227</td>\n",
       "      <td>5.199798</td>\n",
       "      <td>6.673469</td>\n",
       "      <td>6.773876</td>\n",
       "      <td>5.405856</td>\n",
       "      <td>13.065109</td>\n",
       "      <td>8.141628</td>\n",
       "    </tr>\n",
       "    <tr>\n",
       "      <th>7558</th>\n",
       "      <td>10.018759</td>\n",
       "      <td>3.575782</td>\n",
       "      <td>7.292241</td>\n",
       "      <td>4.183545</td>\n",
       "      <td>6.694218</td>\n",
       "      <td>12.106203</td>\n",
       "      <td>13.993394</td>\n",
       "      <td>9.279222</td>\n",
       "      <td>10.582554</td>\n",
       "      <td>10.999910</td>\n",
       "      <td>...</td>\n",
       "      <td>2.788172</td>\n",
       "      <td>7.999525</td>\n",
       "      <td>5.002197</td>\n",
       "      <td>3.911031</td>\n",
       "      <td>5.216871</td>\n",
       "      <td>6.691208</td>\n",
       "      <td>6.778711</td>\n",
       "      <td>5.396391</td>\n",
       "      <td>13.149161</td>\n",
       "      <td>8.239075</td>\n",
       "    </tr>\n",
       "    <tr>\n",
       "      <th>7559</th>\n",
       "      <td>10.011683</td>\n",
       "      <td>3.579953</td>\n",
       "      <td>7.336213</td>\n",
       "      <td>4.183000</td>\n",
       "      <td>6.703461</td>\n",
       "      <td>12.077207</td>\n",
       "      <td>13.963657</td>\n",
       "      <td>9.237817</td>\n",
       "      <td>10.604049</td>\n",
       "      <td>10.984572</td>\n",
       "      <td>...</td>\n",
       "      <td>2.788601</td>\n",
       "      <td>7.985486</td>\n",
       "      <td>5.015253</td>\n",
       "      <td>3.915238</td>\n",
       "      <td>5.223027</td>\n",
       "      <td>6.674852</td>\n",
       "      <td>6.795152</td>\n",
       "      <td>5.398339</td>\n",
       "      <td>13.149600</td>\n",
       "      <td>8.240035</td>\n",
       "    </tr>\n",
       "    <tr>\n",
       "      <th>7560</th>\n",
       "      <td>9.983600</td>\n",
       "      <td>3.550655</td>\n",
       "      <td>7.314685</td>\n",
       "      <td>4.207491</td>\n",
       "      <td>6.655227</td>\n",
       "      <td>12.021136</td>\n",
       "      <td>14.048802</td>\n",
       "      <td>9.271142</td>\n",
       "      <td>10.610099</td>\n",
       "      <td>10.931635</td>\n",
       "      <td>...</td>\n",
       "      <td>2.765385</td>\n",
       "      <td>7.972167</td>\n",
       "      <td>5.011320</td>\n",
       "      <td>3.930119</td>\n",
       "      <td>5.189328</td>\n",
       "      <td>6.666513</td>\n",
       "      <td>6.793926</td>\n",
       "      <td>5.399085</td>\n",
       "      <td>13.195154</td>\n",
       "      <td>8.308961</td>\n",
       "    </tr>\n",
       "  </tbody>\n",
       "</table>\n",
       "<p>7561 rows × 500 columns</p>\n",
       "</div>"
      ],
      "text/plain": [
       "            0         1         2         3         4          5          6    \\\n",
       "0      1.000000  1.000000  1.000000  1.000000  1.000000   1.000000   1.000000   \n",
       "1      1.009305  0.993768  1.009305  0.999743  0.996278   1.001541   0.989845   \n",
       "2      1.005924  0.997185  1.008287  0.991736  0.993318   1.005145   0.994953   \n",
       "3      1.009465  0.997698  1.005589  0.991942  0.998228   1.008462   1.006137   \n",
       "4      1.010109  0.999006  1.004874  0.997200  1.005802   1.015870   1.008172   \n",
       "...         ...       ...       ...       ...       ...        ...        ...   \n",
       "7556   9.966617  3.561318  7.265404  4.183843  6.799394  12.007022  13.919655   \n",
       "7557   9.968241  3.565175  7.305852  4.182386  6.787288  12.080286  14.029135   \n",
       "7558  10.018759  3.575782  7.292241  4.183545  6.694218  12.106203  13.993394   \n",
       "7559  10.011683  3.579953  7.336213  4.183000  6.703461  12.077207  13.963657   \n",
       "7560   9.983600  3.550655  7.314685  4.207491  6.655227  12.021136  14.048802   \n",
       "\n",
       "           7          8          9    ...       490       491       492  \\\n",
       "0     1.000000   1.000000   1.000000  ...  1.000000  1.000000  1.000000   \n",
       "1     1.010389   0.996251   1.004106  ...  0.990386  1.006161  1.003201   \n",
       "2     1.010071   0.992445   1.014223  ...  0.994859  1.008043  1.001935   \n",
       "3     1.012346   0.998389   1.014153  ...  0.999102  1.008875  0.993855   \n",
       "4     1.020658   1.005072   1.026931  ...  1.000345  1.003159  0.997782   \n",
       "...        ...        ...        ...  ...       ...       ...       ...   \n",
       "7556  9.293542  10.620078  10.804635  ...  2.808267  7.919102  5.039491   \n",
       "7557  9.326605  10.588140  10.964688  ...  2.801814  7.884867  5.005266   \n",
       "7558  9.279222  10.582554  10.999910  ...  2.788172  7.999525  5.002197   \n",
       "7559  9.237817  10.604049  10.984572  ...  2.788601  7.985486  5.015253   \n",
       "7560  9.271142  10.610099  10.931635  ...  2.765385  7.972167  5.011320   \n",
       "\n",
       "           493       494       495       496       497        498       499  \n",
       "0     1.000000  1.000000  1.000000  1.000000  1.000000   1.000000  1.000000  \n",
       "1     0.995100  1.009182  1.000771  0.998067  1.005483   1.000333  1.008047  \n",
       "2     0.995618  1.008818  0.993313  1.000468  1.013910   1.007324  0.999520  \n",
       "3     0.992929  1.008311  0.995269  1.001144  1.012377   1.013372  1.008993  \n",
       "4     0.989103  1.011971  0.995973  1.002020  1.014901   1.017262  1.006777  \n",
       "...        ...       ...       ...       ...       ...        ...       ...  \n",
       "7556  3.874427  5.207035  6.707116  6.785323  5.439620  13.110185  8.094884  \n",
       "7557  3.914227  5.199798  6.673469  6.773876  5.405856  13.065109  8.141628  \n",
       "7558  3.911031  5.216871  6.691208  6.778711  5.396391  13.149161  8.239075  \n",
       "7559  3.915238  5.223027  6.674852  6.795152  5.398339  13.149600  8.240035  \n",
       "7560  3.930119  5.189328  6.666513  6.793926  5.399085  13.195154  8.308961  \n",
       "\n",
       "[7561 rows x 500 columns]"
      ]
     },
     "execution_count": 18,
     "metadata": {},
     "output_type": "execute_result"
    }
   ],
   "source": [
    "# Running a Monte Carlo simulation to forecast 30 years cumulative returns\n",
    "# .calc_cumulative_return function\n",
    "MC_thirtyyear.calc_cumulative_return()"
   ]
  },
  {
   "cell_type": "code",
   "execution_count": 19,
   "metadata": {},
   "outputs": [
    {
     "data": {
      "image/png": "[encoded data removed]",
      "text/plain": [
       "<Figure size 432x288 with 1 Axes>"
      ]
     },
     "metadata": {
      "needs_background": "light"
     },
     "output_type": "display_data"
    }
   ],
   "source": [
    "# Plot simulation outcomes\n",
    "# updated line_plot to line_plot_thirty\n",
    "line_plot_thirty = MC_thirtyyear.plot_simulation()\n"
   ]
  },
  {
   "cell_type": "code",
   "execution_count": 20,
   "metadata": {},
   "outputs": [
    {
     "data": {
      "image/png": "[encoded data removed]",
      "text/plain": [
       "<Figure size 432x288 with 1 Axes>"
      ]
     },
     "metadata": {
      "needs_background": "light"
     },
     "output_type": "display_data"
    }
   ],
   "source": [
    "# Plot probability distribution and confidence intervals\n",
    "# updated dist_plot to dist_plot_thirty\n",
    "dist_plot_thirty = MC_thirtyyear.plot_distribution()"
   ]
  },
  {
   "cell_type": "markdown",
   "metadata": {},
   "source": [
    "### Retirement Analysis"
   ]
  },
  {
   "cell_type": "code",
   "execution_count": 21,
   "metadata": {},
   "outputs": [
    {
     "name": "stdout",
     "output_type": "stream",
     "text": [
      "count           500.000000\n",
      "mean              7.094566\n",
      "std               3.404152\n",
      "min               1.871700\n",
      "25%               4.741786\n",
      "50%               6.550471\n",
      "75%               8.402154\n",
      "max              24.838503\n",
      "95% CI Lower      2.741224\n",
      "95% CI Upper     15.301196\n",
      "Name: 7560, dtype: float64\n"
     ]
    }
   ],
   "source": [
    "# Fetch summary statistics from the Monte Carlo simulation results\n",
    "# changed tbl to tbl_thirty to keep code uniform\n",
    "tbl_thirty = MC_thirtyyear.summarize_cumulative_return()\n",
    "# Print summary statistics\n",
    "print(tbl_thirty)"
   ]
  },
  {
   "cell_type": "markdown",
   "metadata": {},
   "source": [
    "### Given an initial investment of $20,000, what is the expected portfolio return in dollars at the 95% lower and upper confidence intervals?"
   ]
  },
  {
   "cell_type": "code",
   "execution_count": 22,
   "metadata": {},
   "outputs": [
    {
     "name": "stdout",
     "output_type": "stream",
     "text": [
      "There is a 95% chance that an initial investment of $20000 in the portfolio over the next 30 years will end within in the range of $54824.0 and $306024.0\n"
     ]
    }
   ],
   "source": [
    "# Set initial investment\n",
    "initial_investment = 20000\n",
    "\n",
    "# Use the lower and upper `95%` confidence intervals to calculate the range of the possible outcomes of our $20,000\n",
    "# changed ci_lower to ci_lower_thirty & ci_upper to ci_upper_thirty to keep code uniform\n",
    "\n",
    "\n",
    "ci_lower_thirty = round(tbl_thirty[8]*initial_investment)\n",
    "ci_upper_thirty = round(tbl_thirty[9]*initial_investment)\n",
    "\n",
    "# Print results\n",
    "print(f\"There is a 95% chance that an initial investment of ${initial_investment} in the portfolio\"\n",
    "      f\" over the next 30 years will end within in the range of\"\n",
    "      f\" ${ci_lower_thirty} and ${ci_upper_thirty}\")"
   ]
  },
  {
   "cell_type": "markdown",
   "metadata": {},
   "source": [
    "### How would a 50% increase in the initial investment amount affect the expected portfolio return in dollars at the 95% lower and upper confidence intervals?"
   ]
  },
  {
   "cell_type": "code",
   "execution_count": 24,
   "metadata": {},
   "outputs": [
    {
     "name": "stdout",
     "output_type": "stream",
     "text": [
      "There is a 95% chance that an initial investment of $30000.0 in the portfolio over the next 30 years will end within in the range of $82237.0 and $459036.0\n"
     ]
    }
   ],
   "source": [
    "# Set initial investment\n",
    "# updated initial investment to initial_investment_increase so initial_investment won't be overwritten in later code\n",
    "initial_investment_increase = initial_investment*1.5\n",
    "\n",
    "# Use the lower and upper `95%` confidence intervals to calculate the range of the possible outcomes of our $30,000\n",
    "\n",
    "\n",
    "ci_lower_thirty = round(tbl_thirty[8]*initial_investment_increase)\n",
    "ci_upper_thirty = round(tbl_thirty[9]*initial_investment_increase)\n",
    "\n",
    "# Print results\n",
    "print(f\"There is a 95% chance that an initial investment of ${initial_investment_increase} in the portfolio\"\n",
    "      f\" over the next 30 years will end within in the range of\"\n",
    "      f\" ${ci_lower_thirty} and ${ci_upper_thirty}\")"
   ]
  },
  {
   "cell_type": "markdown",
   "metadata": {},
   "source": [
    "## Optional Challenge - Early Retirement\n",
    "\n",
    "\n",
    "### Five Years Retirement Option"
   ]
  },
  {
   "cell_type": "code",
   "execution_count": 25,
   "metadata": {},
   "outputs": [],
   "source": [
    "# Configuring a Monte Carlo simulation to forecast 5 years cumulative returns\n",
    "# change num_trading_days = 252*5\n",
    "MC_fiveyear = MCSimulation(\n",
    "    portfolio_data = df_stock_data,\n",
    "    weights = [.60,.40],\n",
    "    num_simulation = 500,\n",
    "    num_trading_days = 252*5\n",
    ")"
   ]
  },
  {
   "cell_type": "code",
   "execution_count": 26,
   "metadata": {},
   "outputs": [
    {
     "data": {
      "text/html": [
       "<div>\n",
       "<style scoped>\n",
       "    .dataframe tbody tr th:only-of-type {\n",
       "        vertical-align: middle;\n",
       "    }\n",
       "\n",
       "    .dataframe tbody tr th {\n",
       "        vertical-align: top;\n",
       "    }\n",
       "\n",
       "    .dataframe thead tr th {\n",
       "        text-align: left;\n",
       "    }\n",
       "</style>\n",
       "<table border=\"1\" class=\"dataframe\">\n",
       "  <thead>\n",
       "    <tr>\n",
       "      <th></th>\n",
       "      <th colspan=\"6\" halign=\"left\">AGG</th>\n",
       "      <th colspan=\"6\" halign=\"left\">SPY</th>\n",
       "    </tr>\n",
       "    <tr>\n",
       "      <th></th>\n",
       "      <th>open</th>\n",
       "      <th>high</th>\n",
       "      <th>low</th>\n",
       "      <th>close</th>\n",
       "      <th>volume</th>\n",
       "      <th>daily_return</th>\n",
       "      <th>open</th>\n",
       "      <th>high</th>\n",
       "      <th>low</th>\n",
       "      <th>close</th>\n",
       "      <th>volume</th>\n",
       "      <th>daily_return</th>\n",
       "    </tr>\n",
       "  </thead>\n",
       "  <tbody>\n",
       "    <tr>\n",
       "      <th>2015-08-24 00:00:00-04:00</th>\n",
       "      <td>110.00</td>\n",
       "      <td>110.340</td>\n",
       "      <td>109.57</td>\n",
       "      <td>109.730</td>\n",
       "      <td>5065966</td>\n",
       "      <td>NaN</td>\n",
       "      <td>187.33</td>\n",
       "      <td>195.840</td>\n",
       "      <td>182.40</td>\n",
       "      <td>189.48</td>\n",
       "      <td>353841446</td>\n",
       "      <td>NaN</td>\n",
       "    </tr>\n",
       "    <tr>\n",
       "      <th>2015-08-25 00:00:00-04:00</th>\n",
       "      <td>109.70</td>\n",
       "      <td>109.700</td>\n",
       "      <td>109.13</td>\n",
       "      <td>109.450</td>\n",
       "      <td>3843124</td>\n",
       "      <td>-0.002552</td>\n",
       "      <td>195.43</td>\n",
       "      <td>195.450</td>\n",
       "      <td>187.06</td>\n",
       "      <td>187.24</td>\n",
       "      <td>270267060</td>\n",
       "      <td>-0.011822</td>\n",
       "    </tr>\n",
       "    <tr>\n",
       "      <th>2015-08-26 00:00:00-04:00</th>\n",
       "      <td>109.08</td>\n",
       "      <td>109.410</td>\n",
       "      <td>108.88</td>\n",
       "      <td>108.950</td>\n",
       "      <td>3673170</td>\n",
       "      <td>-0.004568</td>\n",
       "      <td>192.08</td>\n",
       "      <td>194.790</td>\n",
       "      <td>188.37</td>\n",
       "      <td>194.56</td>\n",
       "      <td>255843495</td>\n",
       "      <td>0.039094</td>\n",
       "    </tr>\n",
       "    <tr>\n",
       "      <th>2015-08-27 00:00:00-04:00</th>\n",
       "      <td>108.95</td>\n",
       "      <td>109.195</td>\n",
       "      <td>108.93</td>\n",
       "      <td>109.100</td>\n",
       "      <td>3454665</td>\n",
       "      <td>0.001377</td>\n",
       "      <td>197.02</td>\n",
       "      <td>199.410</td>\n",
       "      <td>195.21</td>\n",
       "      <td>199.28</td>\n",
       "      <td>226847229</td>\n",
       "      <td>0.024260</td>\n",
       "    </tr>\n",
       "    <tr>\n",
       "      <th>2015-08-28 00:00:00-04:00</th>\n",
       "      <td>109.34</td>\n",
       "      <td>109.370</td>\n",
       "      <td>108.93</td>\n",
       "      <td>109.001</td>\n",
       "      <td>4604866</td>\n",
       "      <td>-0.000907</td>\n",
       "      <td>198.50</td>\n",
       "      <td>199.835</td>\n",
       "      <td>197.92</td>\n",
       "      <td>199.28</td>\n",
       "      <td>111959716</td>\n",
       "      <td>0.000000</td>\n",
       "    </tr>\n",
       "  </tbody>\n",
       "</table>\n",
       "</div>"
      ],
      "text/plain": [
       "                              AGG                                     \\\n",
       "                             open     high     low    close   volume   \n",
       "2015-08-24 00:00:00-04:00  110.00  110.340  109.57  109.730  5065966   \n",
       "2015-08-25 00:00:00-04:00  109.70  109.700  109.13  109.450  3843124   \n",
       "2015-08-26 00:00:00-04:00  109.08  109.410  108.88  108.950  3673170   \n",
       "2015-08-27 00:00:00-04:00  108.95  109.195  108.93  109.100  3454665   \n",
       "2015-08-28 00:00:00-04:00  109.34  109.370  108.93  109.001  4604866   \n",
       "\n",
       "                                           SPY                           \\\n",
       "                          daily_return    open     high     low   close   \n",
       "2015-08-24 00:00:00-04:00          NaN  187.33  195.840  182.40  189.48   \n",
       "2015-08-25 00:00:00-04:00    -0.002552  195.43  195.450  187.06  187.24   \n",
       "2015-08-26 00:00:00-04:00    -0.004568  192.08  194.790  188.37  194.56   \n",
       "2015-08-27 00:00:00-04:00     0.001377  197.02  199.410  195.21  199.28   \n",
       "2015-08-28 00:00:00-04:00    -0.000907  198.50  199.835  197.92  199.28   \n",
       "\n",
       "                                                   \n",
       "                              volume daily_return  \n",
       "2015-08-24 00:00:00-04:00  353841446          NaN  \n",
       "2015-08-25 00:00:00-04:00  270267060    -0.011822  \n",
       "2015-08-26 00:00:00-04:00  255843495     0.039094  \n",
       "2015-08-27 00:00:00-04:00  226847229     0.024260  \n",
       "2015-08-28 00:00:00-04:00  111959716     0.000000  "
      ]
     },
     "execution_count": 26,
     "metadata": {},
     "output_type": "execute_result"
    }
   ],
   "source": [
    "# Running a Monte Carlo simulation to forecast 5 years cumulative returns\n",
    "MC_fiveyear.portfolio_data.head()"
   ]
  },
  {
   "cell_type": "code",
   "execution_count": 27,
   "metadata": {},
   "outputs": [
    {
     "name": "stdout",
     "output_type": "stream",
     "text": [
      "Running Monte Carlo simulation number 0.\n",
      "Running Monte Carlo simulation number 10.\n",
      "Running Monte Carlo simulation number 20.\n",
      "Running Monte Carlo simulation number 30.\n",
      "Running Monte Carlo simulation number 40.\n",
      "Running Monte Carlo simulation number 50.\n",
      "Running Monte Carlo simulation number 60.\n",
      "Running Monte Carlo simulation number 70.\n",
      "Running Monte Carlo simulation number 80.\n",
      "Running Monte Carlo simulation number 90.\n",
      "Running Monte Carlo simulation number 100.\n",
      "Running Monte Carlo simulation number 110.\n",
      "Running Monte Carlo simulation number 120.\n",
      "Running Monte Carlo simulation number 130.\n",
      "Running Monte Carlo simulation number 140.\n",
      "Running Monte Carlo simulation number 150.\n",
      "Running Monte Carlo simulation number 160.\n",
      "Running Monte Carlo simulation number 170.\n",
      "Running Monte Carlo simulation number 180.\n",
      "Running Monte Carlo simulation number 190.\n",
      "Running Monte Carlo simulation number 200.\n",
      "Running Monte Carlo simulation number 210.\n",
      "Running Monte Carlo simulation number 220.\n",
      "Running Monte Carlo simulation number 230.\n",
      "Running Monte Carlo simulation number 240.\n",
      "Running Monte Carlo simulation number 250.\n",
      "Running Monte Carlo simulation number 260.\n",
      "Running Monte Carlo simulation number 270.\n",
      "Running Monte Carlo simulation number 280.\n",
      "Running Monte Carlo simulation number 290.\n",
      "Running Monte Carlo simulation number 300.\n",
      "Running Monte Carlo simulation number 310.\n",
      "Running Monte Carlo simulation number 320.\n",
      "Running Monte Carlo simulation number 330.\n",
      "Running Monte Carlo simulation number 340.\n",
      "Running Monte Carlo simulation number 350.\n",
      "Running Monte Carlo simulation number 360.\n",
      "Running Monte Carlo simulation number 370.\n",
      "Running Monte Carlo simulation number 380.\n",
      "Running Monte Carlo simulation number 390.\n",
      "Running Monte Carlo simulation number 400.\n",
      "Running Monte Carlo simulation number 410.\n",
      "Running Monte Carlo simulation number 420.\n",
      "Running Monte Carlo simulation number 430.\n",
      "Running Monte Carlo simulation number 440.\n",
      "Running Monte Carlo simulation number 450.\n",
      "Running Monte Carlo simulation number 460.\n",
      "Running Monte Carlo simulation number 470.\n",
      "Running Monte Carlo simulation number 480.\n",
      "Running Monte Carlo simulation number 490.\n"
     ]
    },
    {
     "data": {
      "image/png": "[encoded data removed]",
      "text/plain": [
       "<Figure size 432x288 with 1 Axes>"
      ]
     },
     "metadata": {
      "needs_background": "light"
     },
     "output_type": "display_data"
    }
   ],
   "source": [
    "# Plot simulation outcomes\n",
    "# YOUR CODE HERE!\n",
    "line_plot_five = MC_fiveyear.plot_simulation()"
   ]
  },
  {
   "cell_type": "code",
   "execution_count": 28,
   "metadata": {},
   "outputs": [
    {
     "data": {
      "image/png": "[encoded data removed]",
      "text/plain": [
       "<Figure size 432x288 with 1 Axes>"
      ]
     },
     "metadata": {
      "needs_background": "light"
     },
     "output_type": "display_data"
    }
   ],
   "source": [
    "# Plot probability distribution and confidence intervals\n",
    "# YOUR CODE HERE!\n",
    "dist_plot_five = MC_fiveyear.plot_distribution()"
   ]
  },
  {
   "cell_type": "code",
   "execution_count": 29,
   "metadata": {},
   "outputs": [
    {
     "name": "stdout",
     "output_type": "stream",
     "text": [
      "count           500.000000\n",
      "mean              1.381863\n",
      "std               0.252646\n",
      "min               0.876196\n",
      "25%               1.197742\n",
      "50%               1.368039\n",
      "75%               1.530451\n",
      "max               2.451208\n",
      "95% CI Lower      0.984858\n",
      "95% CI Upper      2.002542\n",
      "Name: 1260, dtype: float64\n"
     ]
    }
   ],
   "source": [
    "# Fetch summary statistics from the Monte Carlo simulation results\n",
    "# YOUR CODE HERE!\n",
    "tbl_five = MC_fiveyear.summarize_cumulative_return()\n",
    "\n",
    "# Print summary statistics\n",
    "print(tbl_five)"
   ]
  },
  {
   "cell_type": "code",
   "execution_count": 30,
   "metadata": {},
   "outputs": [
    {
     "name": "stdout",
     "output_type": "stream",
     "text": [
      "There is a 95% chance that an initial investment of $20000 in the portfolio over the next 5 years will end within in the range of $19697.0 and $40051.0\n"
     ]
    }
   ],
   "source": [
    "# Set initial investment\n",
    "# previously set (20000)\n",
    "\n",
    "# Use the lower and upper `95%` confidence intervals to calculate the range of the possible outcomes of our $60,000\n",
    "\n",
    "ci_lower_five = round(tbl_five[8]*initial_investment)\n",
    "ci_upper_five = round(tbl_five[9]*initial_investment)\n",
    "\n",
    "# Print results\n",
    "print(f\"There is a 95% chance that an initial investment of ${initial_investment} in the portfolio\"\n",
    "      f\" over the next 5 years will end within in the range of\"\n",
    "      f\" ${ci_lower_five} and ${ci_upper_five}\")"
   ]
  },
  {
   "cell_type": "markdown",
   "metadata": {},
   "source": [
    "### Ten Years Retirement Option"
   ]
  },
  {
   "cell_type": "code",
   "execution_count": 31,
   "metadata": {},
   "outputs": [],
   "source": [
    "# Configuring a Monte Carlo simulation to forecast 10 years cumulative returns\n",
    "# change num_trading_days = 252*10\n",
    "MC_tenyear = MCSimulation(\n",
    "    portfolio_data = df_stock_data,\n",
    "    weights = [.60,.40],\n",
    "    num_simulation = 500,\n",
    "    num_trading_days = 252*10\n",
    ")"
   ]
  },
  {
   "cell_type": "code",
   "execution_count": 32,
   "metadata": {},
   "outputs": [
    {
     "data": {
      "text/html": [
       "<div>\n",
       "<style scoped>\n",
       "    .dataframe tbody tr th:only-of-type {\n",
       "        vertical-align: middle;\n",
       "    }\n",
       "\n",
       "    .dataframe tbody tr th {\n",
       "        vertical-align: top;\n",
       "    }\n",
       "\n",
       "    .dataframe thead tr th {\n",
       "        text-align: left;\n",
       "    }\n",
       "</style>\n",
       "<table border=\"1\" class=\"dataframe\">\n",
       "  <thead>\n",
       "    <tr>\n",
       "      <th></th>\n",
       "      <th colspan=\"6\" halign=\"left\">AGG</th>\n",
       "      <th colspan=\"6\" halign=\"left\">SPY</th>\n",
       "    </tr>\n",
       "    <tr>\n",
       "      <th></th>\n",
       "      <th>open</th>\n",
       "      <th>high</th>\n",
       "      <th>low</th>\n",
       "      <th>close</th>\n",
       "      <th>volume</th>\n",
       "      <th>daily_return</th>\n",
       "      <th>open</th>\n",
       "      <th>high</th>\n",
       "      <th>low</th>\n",
       "      <th>close</th>\n",
       "      <th>volume</th>\n",
       "      <th>daily_return</th>\n",
       "    </tr>\n",
       "  </thead>\n",
       "  <tbody>\n",
       "    <tr>\n",
       "      <th>2015-08-24 00:00:00-04:00</th>\n",
       "      <td>110.00</td>\n",
       "      <td>110.340</td>\n",
       "      <td>109.57</td>\n",
       "      <td>109.730</td>\n",
       "      <td>5065966</td>\n",
       "      <td>NaN</td>\n",
       "      <td>187.33</td>\n",
       "      <td>195.840</td>\n",
       "      <td>182.40</td>\n",
       "      <td>189.48</td>\n",
       "      <td>353841446</td>\n",
       "      <td>NaN</td>\n",
       "    </tr>\n",
       "    <tr>\n",
       "      <th>2015-08-25 00:00:00-04:00</th>\n",
       "      <td>109.70</td>\n",
       "      <td>109.700</td>\n",
       "      <td>109.13</td>\n",
       "      <td>109.450</td>\n",
       "      <td>3843124</td>\n",
       "      <td>-0.002552</td>\n",
       "      <td>195.43</td>\n",
       "      <td>195.450</td>\n",
       "      <td>187.06</td>\n",
       "      <td>187.24</td>\n",
       "      <td>270267060</td>\n",
       "      <td>-0.011822</td>\n",
       "    </tr>\n",
       "    <tr>\n",
       "      <th>2015-08-26 00:00:00-04:00</th>\n",
       "      <td>109.08</td>\n",
       "      <td>109.410</td>\n",
       "      <td>108.88</td>\n",
       "      <td>108.950</td>\n",
       "      <td>3673170</td>\n",
       "      <td>-0.004568</td>\n",
       "      <td>192.08</td>\n",
       "      <td>194.790</td>\n",
       "      <td>188.37</td>\n",
       "      <td>194.56</td>\n",
       "      <td>255843495</td>\n",
       "      <td>0.039094</td>\n",
       "    </tr>\n",
       "    <tr>\n",
       "      <th>2015-08-27 00:00:00-04:00</th>\n",
       "      <td>108.95</td>\n",
       "      <td>109.195</td>\n",
       "      <td>108.93</td>\n",
       "      <td>109.100</td>\n",
       "      <td>3454665</td>\n",
       "      <td>0.001377</td>\n",
       "      <td>197.02</td>\n",
       "      <td>199.410</td>\n",
       "      <td>195.21</td>\n",
       "      <td>199.28</td>\n",
       "      <td>226847229</td>\n",
       "      <td>0.024260</td>\n",
       "    </tr>\n",
       "    <tr>\n",
       "      <th>2015-08-28 00:00:00-04:00</th>\n",
       "      <td>109.34</td>\n",
       "      <td>109.370</td>\n",
       "      <td>108.93</td>\n",
       "      <td>109.001</td>\n",
       "      <td>4604866</td>\n",
       "      <td>-0.000907</td>\n",
       "      <td>198.50</td>\n",
       "      <td>199.835</td>\n",
       "      <td>197.92</td>\n",
       "      <td>199.28</td>\n",
       "      <td>111959716</td>\n",
       "      <td>0.000000</td>\n",
       "    </tr>\n",
       "  </tbody>\n",
       "</table>\n",
       "</div>"
      ],
      "text/plain": [
       "                              AGG                                     \\\n",
       "                             open     high     low    close   volume   \n",
       "2015-08-24 00:00:00-04:00  110.00  110.340  109.57  109.730  5065966   \n",
       "2015-08-25 00:00:00-04:00  109.70  109.700  109.13  109.450  3843124   \n",
       "2015-08-26 00:00:00-04:00  109.08  109.410  108.88  108.950  3673170   \n",
       "2015-08-27 00:00:00-04:00  108.95  109.195  108.93  109.100  3454665   \n",
       "2015-08-28 00:00:00-04:00  109.34  109.370  108.93  109.001  4604866   \n",
       "\n",
       "                                           SPY                           \\\n",
       "                          daily_return    open     high     low   close   \n",
       "2015-08-24 00:00:00-04:00          NaN  187.33  195.840  182.40  189.48   \n",
       "2015-08-25 00:00:00-04:00    -0.002552  195.43  195.450  187.06  187.24   \n",
       "2015-08-26 00:00:00-04:00    -0.004568  192.08  194.790  188.37  194.56   \n",
       "2015-08-27 00:00:00-04:00     0.001377  197.02  199.410  195.21  199.28   \n",
       "2015-08-28 00:00:00-04:00    -0.000907  198.50  199.835  197.92  199.28   \n",
       "\n",
       "                                                   \n",
       "                              volume daily_return  \n",
       "2015-08-24 00:00:00-04:00  353841446          NaN  \n",
       "2015-08-25 00:00:00-04:00  270267060    -0.011822  \n",
       "2015-08-26 00:00:00-04:00  255843495     0.039094  \n",
       "2015-08-27 00:00:00-04:00  226847229     0.024260  \n",
       "2015-08-28 00:00:00-04:00  111959716     0.000000  "
      ]
     },
     "execution_count": 32,
     "metadata": {},
     "output_type": "execute_result"
    }
   ],
   "source": [
    "# Running a Monte Carlo simulation to forecast 10 years cumulative returns\n",
    "\n",
    "MC_tenyear.portfolio_data.head()"
   ]
  },
  {
   "cell_type": "code",
   "execution_count": 33,
   "metadata": {},
   "outputs": [
    {
     "name": "stdout",
     "output_type": "stream",
     "text": [
      "Running Monte Carlo simulation number 0.\n",
      "Running Monte Carlo simulation number 10.\n",
      "Running Monte Carlo simulation number 20.\n",
      "Running Monte Carlo simulation number 30.\n",
      "Running Monte Carlo simulation number 40.\n",
      "Running Monte Carlo simulation number 50.\n",
      "Running Monte Carlo simulation number 60.\n",
      "Running Monte Carlo simulation number 70.\n",
      "Running Monte Carlo simulation number 80.\n",
      "Running Monte Carlo simulation number 90.\n",
      "Running Monte Carlo simulation number 100.\n",
      "Running Monte Carlo simulation number 110.\n",
      "Running Monte Carlo simulation number 120.\n",
      "Running Monte Carlo simulation number 130.\n",
      "Running Monte Carlo simulation number 140.\n",
      "Running Monte Carlo simulation number 150.\n",
      "Running Monte Carlo simulation number 160.\n",
      "Running Monte Carlo simulation number 170.\n",
      "Running Monte Carlo simulation number 180.\n",
      "Running Monte Carlo simulation number 190.\n",
      "Running Monte Carlo simulation number 200.\n",
      "Running Monte Carlo simulation number 210.\n",
      "Running Monte Carlo simulation number 220.\n",
      "Running Monte Carlo simulation number 230.\n",
      "Running Monte Carlo simulation number 240.\n",
      "Running Monte Carlo simulation number 250.\n",
      "Running Monte Carlo simulation number 260.\n",
      "Running Monte Carlo simulation number 270.\n",
      "Running Monte Carlo simulation number 280.\n",
      "Running Monte Carlo simulation number 290.\n",
      "Running Monte Carlo simulation number 300.\n",
      "Running Monte Carlo simulation number 310.\n",
      "Running Monte Carlo simulation number 320.\n",
      "Running Monte Carlo simulation number 330.\n",
      "Running Monte Carlo simulation number 340.\n",
      "Running Monte Carlo simulation number 350.\n",
      "Running Monte Carlo simulation number 360.\n",
      "Running Monte Carlo simulation number 370.\n",
      "Running Monte Carlo simulation number 380.\n",
      "Running Monte Carlo simulation number 390.\n",
      "Running Monte Carlo simulation number 400.\n",
      "Running Monte Carlo simulation number 410.\n",
      "Running Monte Carlo simulation number 420.\n",
      "Running Monte Carlo simulation number 430.\n",
      "Running Monte Carlo simulation number 440.\n",
      "Running Monte Carlo simulation number 450.\n",
      "Running Monte Carlo simulation number 460.\n",
      "Running Monte Carlo simulation number 470.\n",
      "Running Monte Carlo simulation number 480.\n",
      "Running Monte Carlo simulation number 490.\n"
     ]
    },
    {
     "data": {
      "image/png": "[encoded data removed]",
      "text/plain": [
       "<Figure size 432x288 with 1 Axes>"
      ]
     },
     "metadata": {
      "needs_background": "light"
     },
     "output_type": "display_data"
    }
   ],
   "source": [
    "# Plot simulation outcomes\n",
    "line_plot_ten = MC_tenyear.plot_simulation()"
   ]
  },
  {
   "cell_type": "code",
   "execution_count": 34,
   "metadata": {},
   "outputs": [
    {
     "data": {
      "image/png": "[encoded data removed]",
      "text/plain": [
       "<Figure size 432x288 with 1 Axes>"
      ]
     },
     "metadata": {
      "needs_background": "light"
     },
     "output_type": "display_data"
    }
   ],
   "source": [
    "# Plot probability distribution and confidence intervals\n",
    "# YOUR CODE HERE!\n",
    "dist_plot_ten = MC_tenyear.plot_distribution()"
   ]
  },
  {
   "cell_type": "code",
   "execution_count": 35,
   "metadata": {},
   "outputs": [
    {
     "name": "stdout",
     "output_type": "stream",
     "text": [
      "count           500.000000\n",
      "mean              1.902058\n",
      "std               0.504172\n",
      "min               0.759120\n",
      "25%               1.539967\n",
      "50%               1.811151\n",
      "75%               2.222110\n",
      "max               4.234453\n",
      "95% CI Lower      1.151438\n",
      "95% CI Upper      2.993715\n",
      "Name: 2520, dtype: float64\n"
     ]
    }
   ],
   "source": [
    "# Fetch summary statistics from the Monte Carlo simulation results\n",
    "# YOUR CODE HERE!\n",
    "tbl_ten = MC_tenyear.summarize_cumulative_return()\n",
    "# Print summary statistics\n",
    "print(tbl_ten)"
   ]
  },
  {
   "cell_type": "code",
   "execution_count": 36,
   "metadata": {},
   "outputs": [
    {
     "name": "stdout",
     "output_type": "stream",
     "text": [
      "There is a 95% chance that an initial investment of $20000 in the portfolio over the next 10 years will end within in the range of $23029.0 and $59874.0\n"
     ]
    }
   ],
   "source": [
    "# Set initial investment\n",
    "\n",
    "ci_lower_ten = round(tbl_ten[8]*initial_investment)\n",
    "ci_upper_ten = round(tbl_ten[9]*initial_investment)\n",
    "# Use the lower and upper `95%` confidence intervals to calculate the range of the possible outcomes of our $60,000\n",
    "# YOUR CODE HERE!\n",
    "\n",
    "# Print results\n",
    "print(f\"There is a 95% chance that an initial investment of ${initial_investment} in the portfolio\"\n",
    "      f\" over the next 10 years will end within in the range of\"\n",
    "      f\" ${ci_lower_ten} and ${ci_upper_ten}\")"
   ]
  },
  {
   "cell_type": "code",
   "execution_count": null,
   "metadata": {},
   "outputs": [],
   "source": []
  }
 ],
 "metadata": {
  "kernelspec": {
   "display_name": "Python 3",
   "language": "python",
   "name": "python3"
  },
  "language_info": {
   "codemirror_mode": {
    "name": "ipython",
    "version": 3
   },
   "file_extension": ".py",
   "mimetype": "text/x-python",
   "name": "python",
   "nbconvert_exporter": "python",
   "pygments_lexer": "ipython3",
   "version": "3.8.3"
  }
 },
 "nbformat": 4,
 "nbformat_minor": 4
}
